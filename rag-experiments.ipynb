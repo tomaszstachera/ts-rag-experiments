{
 "cells": [
  {
   "cell_type": "markdown",
   "metadata": {},
   "source": [
    "## General note: be aware that LLM models are not deterministic, so you may get a different result when trying to replicate this notebook on your own."
   ]
  },
  {
   "cell_type": "markdown",
   "metadata": {},
   "source": [
    "### Let's try to ask GPT API a simple question about Premier League match."
   ]
  },
  {
   "cell_type": "code",
   "execution_count": 1,
   "metadata": {},
   "outputs": [],
   "source": [
    "question = 'In which premier league match Zaroury was sent off after a foul on Walker?'"
   ]
  },
  {
   "cell_type": "code",
   "execution_count": 2,
   "metadata": {},
   "outputs": [],
   "source": [
    "from openai import OpenAI\n",
    "import os\n",
    "MODEL = 'gpt-4o-mini'\n",
    "client = OpenAI(api_key=os.environ.get(\"OPENAI_API_KEY\"))"
   ]
  },
  {
   "cell_type": "code",
   "execution_count": 3,
   "metadata": {},
   "outputs": [],
   "source": [
    "def ask_gpt(user_prompt):\n",
    "    completion = client.chat.completions.create(\n",
    "        model=MODEL,\n",
    "        messages=[\n",
    "            {\"role\": \"user\", \"content\": user_prompt},\n",
    "        ],\n",
    "        temperature=0,\n",
    "        max_tokens=200\n",
    "    )\n",
    "    return completion.choices[0].message.content"
   ]
  },
  {
   "cell_type": "code",
   "execution_count": 4,
   "metadata": {},
   "outputs": [
    {
     "name": "stdout",
     "output_type": "stream",
     "text": [
      "Zaroury was sent off after a foul on Kyle Walker during the Premier League match between Burnley and Manchester City on September 30, 2023.\n"
     ]
    }
   ],
   "source": [
    "print(ask_gpt(question))"
   ]
  },
  {
   "cell_type": "markdown",
   "metadata": {},
   "source": [
    "### How this may happen? This match didn't took place on this date! Can AI make mistakes ?! SOMEBODY CALL 911 !!!!!1111 (we need a RAG here ;)) ... Jokes aside, I think we have a hallucination here. Let's check the official Premier League webpage to verify this information. If you go to this link, you will see that the match actually took place on August 11th, not September 30th.\n",
    "Link - https://www.premierleague.com/match/93321\n",
    "![match date](images/burnley-city-actual.png \"match date\")"
   ]
  },
  {
   "cell_type": "markdown",
   "metadata": {},
   "source": [
    "### If you ask GPT website it responds with correct answer, but we can see it was not taken from the model weights, but from the issued web search (as below)."
   ]
  },
  {
   "cell_type": "markdown",
   "metadata": {},
   "source": [
    "![Chat GPT Web response](images/zaroury-gpt.png \"Chat GPT Web response\")"
   ]
  },
  {
   "cell_type": "markdown",
   "metadata": {},
   "source": [
    "### Maybe they are using web scrapping along with RAG then they discover potential hallucinations :)"
   ]
  },
  {
   "cell_type": "markdown",
   "metadata": {},
   "source": [
    "### Let's try to involve RAG into this process. I've found suitable dataset for this at [Kaggle](https://www.kaggle.com/). It is [Premier League commentary](https://www.kaggle.com/datasets/pranavkarnani/english-premier-league-match-commentary) . Let's download it and use as context for the question."
   ]
  },
  {
   "cell_type": "code",
   "execution_count": 5,
   "metadata": {},
   "outputs": [
    {
     "name": "stdout",
     "output_type": "stream",
     "text": [
      "  % Total    % Received % Xferd  Average Speed   Time    Time     Time  Current\n",
      "                                 Dload  Upload   Total   Spent    Left  Speed\n",
      "  0     0    0     0    0     0      0      0 --:--:-- --:--:-- --:--:--     0-:-- --:--:--     0\n",
      "100 2064k  100 2064k    0     0  1504k      0  0:00:01  0:00:01 --:--:-- 4556k\n",
      "Archive:  ./data/english-premier-league-match-commentary.zip\n",
      "  inflating: ./data/23_24_match_details.csv  \n",
      "  inflating: ./data/23_24_match_stats.csv  \n"
     ]
    }
   ],
   "source": [
    "#!/bin/bash\n",
    "!mkdir data && curl -L -o ./data/english-premier-league-match-commentary.zip \\\n",
    "  https://www.kaggle.com/api/v1/datasets/download/pranavkarnani/english-premier-league-match-commentary && unzip ./data/english-premier-league-match-commentary.zip -d ./data/"
   ]
  },
  {
   "cell_type": "code",
   "execution_count": 6,
   "metadata": {},
   "outputs": [],
   "source": [
    "import pandas as pd"
   ]
  },
  {
   "cell_type": "code",
   "execution_count": 8,
   "metadata": {},
   "outputs": [
    {
     "data": {
      "text/html": [
       "<div>\n",
       "<style scoped>\n",
       "    .dataframe tbody tr th:only-of-type {\n",
       "        vertical-align: middle;\n",
       "    }\n",
       "\n",
       "    .dataframe tbody tr th {\n",
       "        vertical-align: top;\n",
       "    }\n",
       "\n",
       "    .dataframe thead th {\n",
       "        text-align: right;\n",
       "    }\n",
       "</style>\n",
       "<table border=\"1\" class=\"dataframe\">\n",
       "  <thead>\n",
       "    <tr style=\"text-align: right;\">\n",
       "      <th></th>\n",
       "      <th>Home</th>\n",
       "      <th>Away</th>\n",
       "      <th>Date</th>\n",
       "      <th>Stadium</th>\n",
       "      <th>Attendance</th>\n",
       "      <th>Referee</th>\n",
       "      <th>events</th>\n",
       "      <th>summary</th>\n",
       "    </tr>\n",
       "    <tr>\n",
       "      <th>id</th>\n",
       "      <th></th>\n",
       "      <th></th>\n",
       "      <th></th>\n",
       "      <th></th>\n",
       "      <th></th>\n",
       "      <th></th>\n",
       "      <th></th>\n",
       "      <th></th>\n",
       "    </tr>\n",
       "  </thead>\n",
       "  <tbody>\n",
       "    <tr>\n",
       "      <th>93323</th>\n",
       "      <td>Bournemouth</td>\n",
       "      <td>West Ham</td>\n",
       "      <td>2023-08-12</td>\n",
       "      <td>Vitality Stadium, Bournemouth</td>\n",
       "      <td>NaN</td>\n",
       "      <td>Robert Jones</td>\n",
       "      <td>Hello and welcome to live coverage of the Prem...</td>\n",
       "      <td>Referee: Peter Bankes. Assistants: Dan Robatha...</td>\n",
       "    </tr>\n",
       "    <tr>\n",
       "      <th>93336</th>\n",
       "      <td>Man City</td>\n",
       "      <td>Newcastle</td>\n",
       "      <td>2023-08-19</td>\n",
       "      <td>Etihad Stadium, Manchester</td>\n",
       "      <td>NaN</td>\n",
       "      <td>Robert Jones</td>\n",
       "      <td>Hello everyone and welcome to live text covera...</td>\n",
       "      <td>Referee: Robert Jones. Assistants: Ian Hussin,...</td>\n",
       "    </tr>\n",
       "    <tr>\n",
       "      <th>93343</th>\n",
       "      <td>Brentford</td>\n",
       "      <td>Crystal Palace</td>\n",
       "      <td>2023-08-26</td>\n",
       "      <td>Gtech Community Stadium, Brentford</td>\n",
       "      <td>16997.0</td>\n",
       "      <td>Peter Bankes</td>\n",
       "      <td>Hello and welcome to the live commentary of th...</td>\n",
       "      <td>NaN</td>\n",
       "    </tr>\n",
       "    <tr>\n",
       "      <th>93344</th>\n",
       "      <td>Brighton</td>\n",
       "      <td>West Ham</td>\n",
       "      <td>2023-08-26</td>\n",
       "      <td>American Express Stadium, Falmer</td>\n",
       "      <td>31508.0</td>\n",
       "      <td>Anthony Taylor</td>\n",
       "      <td>Hello and welcome to live coverage of the Prem...</td>\n",
       "      <td>Referee: Anthony Taylor. Assistants: Gary Besw...</td>\n",
       "    </tr>\n",
       "    <tr>\n",
       "      <th>93347</th>\n",
       "      <td>Everton</td>\n",
       "      <td>Wolves</td>\n",
       "      <td>2023-08-26</td>\n",
       "      <td>Goodison Park, Liverpool</td>\n",
       "      <td>38851.0</td>\n",
       "      <td>Craig Pawson</td>\n",
       "      <td>Hello and welcome to live coverage of this Pre...</td>\n",
       "      <td>NaN</td>\n",
       "    </tr>\n",
       "  </tbody>\n",
       "</table>\n",
       "</div>"
      ],
      "text/plain": [
       "              Home            Away        Date  \\\n",
       "id                                               \n",
       "93323  Bournemouth        West Ham  2023-08-12   \n",
       "93336     Man City       Newcastle  2023-08-19   \n",
       "93343    Brentford  Crystal Palace  2023-08-26   \n",
       "93344     Brighton        West Ham  2023-08-26   \n",
       "93347      Everton          Wolves  2023-08-26   \n",
       "\n",
       "                                  Stadium  Attendance         Referee  \\\n",
       "id                                                                      \n",
       "93323       Vitality Stadium, Bournemouth         NaN    Robert Jones   \n",
       "93336          Etihad Stadium, Manchester         NaN    Robert Jones   \n",
       "93343  Gtech Community Stadium, Brentford     16997.0    Peter Bankes   \n",
       "93344    American Express Stadium, Falmer     31508.0  Anthony Taylor   \n",
       "93347            Goodison Park, Liverpool     38851.0    Craig Pawson   \n",
       "\n",
       "                                                  events  \\\n",
       "id                                                         \n",
       "93323  Hello and welcome to live coverage of the Prem...   \n",
       "93336  Hello everyone and welcome to live text covera...   \n",
       "93343  Hello and welcome to the live commentary of th...   \n",
       "93344  Hello and welcome to live coverage of the Prem...   \n",
       "93347  Hello and welcome to live coverage of this Pre...   \n",
       "\n",
       "                                                 summary  \n",
       "id                                                        \n",
       "93323  Referee: Peter Bankes. Assistants: Dan Robatha...  \n",
       "93336  Referee: Robert Jones. Assistants: Ian Hussin,...  \n",
       "93343                                                NaN  \n",
       "93344  Referee: Anthony Taylor. Assistants: Gary Besw...  \n",
       "93347                                                NaN  "
      ]
     },
     "execution_count": 8,
     "metadata": {},
     "output_type": "execute_result"
    }
   ],
   "source": [
    "match_csv_df = pd.read_csv('./data/23_24_match_details.csv', index_col='id')\n",
    "match_csv_df.head()"
   ]
  },
  {
   "cell_type": "markdown",
   "metadata": {},
   "source": [
    "### Let's merge all the columns into one information column called `text`."
   ]
  },
  {
   "cell_type": "code",
   "execution_count": 9,
   "metadata": {},
   "outputs": [
    {
     "data": {
      "text/html": [
       "<div>\n",
       "<style scoped>\n",
       "    .dataframe tbody tr th:only-of-type {\n",
       "        vertical-align: middle;\n",
       "    }\n",
       "\n",
       "    .dataframe tbody tr th {\n",
       "        vertical-align: top;\n",
       "    }\n",
       "\n",
       "    .dataframe thead th {\n",
       "        text-align: right;\n",
       "    }\n",
       "</style>\n",
       "<table border=\"1\" class=\"dataframe\">\n",
       "  <thead>\n",
       "    <tr style=\"text-align: right;\">\n",
       "      <th></th>\n",
       "      <th>Home</th>\n",
       "      <th>Away</th>\n",
       "      <th>Date</th>\n",
       "      <th>Stadium</th>\n",
       "      <th>Attendance</th>\n",
       "      <th>Referee</th>\n",
       "      <th>events</th>\n",
       "      <th>summary</th>\n",
       "      <th>text</th>\n",
       "    </tr>\n",
       "    <tr>\n",
       "      <th>id</th>\n",
       "      <th></th>\n",
       "      <th></th>\n",
       "      <th></th>\n",
       "      <th></th>\n",
       "      <th></th>\n",
       "      <th></th>\n",
       "      <th></th>\n",
       "      <th></th>\n",
       "      <th></th>\n",
       "    </tr>\n",
       "  </thead>\n",
       "  <tbody>\n",
       "    <tr>\n",
       "      <th>93323</th>\n",
       "      <td>Bournemouth</td>\n",
       "      <td>West Ham</td>\n",
       "      <td>2023-08-12</td>\n",
       "      <td>Vitality Stadium, Bournemouth</td>\n",
       "      <td>NaN</td>\n",
       "      <td>Robert Jones</td>\n",
       "      <td>Hello and welcome to live coverage of the Prem...</td>\n",
       "      <td>Referee: Peter Bankes. Assistants: Dan Robatha...</td>\n",
       "      <td>Bournemouth West Ham 2023-08-12 Vitality Stadi...</td>\n",
       "    </tr>\n",
       "    <tr>\n",
       "      <th>93336</th>\n",
       "      <td>Man City</td>\n",
       "      <td>Newcastle</td>\n",
       "      <td>2023-08-19</td>\n",
       "      <td>Etihad Stadium, Manchester</td>\n",
       "      <td>NaN</td>\n",
       "      <td>Robert Jones</td>\n",
       "      <td>Hello everyone and welcome to live text covera...</td>\n",
       "      <td>Referee: Robert Jones. Assistants: Ian Hussin,...</td>\n",
       "      <td>Man City Newcastle 2023-08-19 Etihad Stadium, ...</td>\n",
       "    </tr>\n",
       "    <tr>\n",
       "      <th>93343</th>\n",
       "      <td>Brentford</td>\n",
       "      <td>Crystal Palace</td>\n",
       "      <td>2023-08-26</td>\n",
       "      <td>Gtech Community Stadium, Brentford</td>\n",
       "      <td>16997.0</td>\n",
       "      <td>Peter Bankes</td>\n",
       "      <td>Hello and welcome to the live commentary of th...</td>\n",
       "      <td>NaN</td>\n",
       "      <td>Brentford Crystal Palace 2023-08-26 Gtech Comm...</td>\n",
       "    </tr>\n",
       "    <tr>\n",
       "      <th>93344</th>\n",
       "      <td>Brighton</td>\n",
       "      <td>West Ham</td>\n",
       "      <td>2023-08-26</td>\n",
       "      <td>American Express Stadium, Falmer</td>\n",
       "      <td>31508.0</td>\n",
       "      <td>Anthony Taylor</td>\n",
       "      <td>Hello and welcome to live coverage of the Prem...</td>\n",
       "      <td>Referee: Anthony Taylor. Assistants: Gary Besw...</td>\n",
       "      <td>Brighton West Ham 2023-08-26 American Express ...</td>\n",
       "    </tr>\n",
       "    <tr>\n",
       "      <th>93347</th>\n",
       "      <td>Everton</td>\n",
       "      <td>Wolves</td>\n",
       "      <td>2023-08-26</td>\n",
       "      <td>Goodison Park, Liverpool</td>\n",
       "      <td>38851.0</td>\n",
       "      <td>Craig Pawson</td>\n",
       "      <td>Hello and welcome to live coverage of this Pre...</td>\n",
       "      <td>NaN</td>\n",
       "      <td>Everton Wolves 2023-08-26 Goodison Park, Liver...</td>\n",
       "    </tr>\n",
       "  </tbody>\n",
       "</table>\n",
       "</div>"
      ],
      "text/plain": [
       "              Home            Away        Date  \\\n",
       "id                                               \n",
       "93323  Bournemouth        West Ham  2023-08-12   \n",
       "93336     Man City       Newcastle  2023-08-19   \n",
       "93343    Brentford  Crystal Palace  2023-08-26   \n",
       "93344     Brighton        West Ham  2023-08-26   \n",
       "93347      Everton          Wolves  2023-08-26   \n",
       "\n",
       "                                  Stadium  Attendance         Referee  \\\n",
       "id                                                                      \n",
       "93323       Vitality Stadium, Bournemouth         NaN    Robert Jones   \n",
       "93336          Etihad Stadium, Manchester         NaN    Robert Jones   \n",
       "93343  Gtech Community Stadium, Brentford     16997.0    Peter Bankes   \n",
       "93344    American Express Stadium, Falmer     31508.0  Anthony Taylor   \n",
       "93347            Goodison Park, Liverpool     38851.0    Craig Pawson   \n",
       "\n",
       "                                                  events  \\\n",
       "id                                                         \n",
       "93323  Hello and welcome to live coverage of the Prem...   \n",
       "93336  Hello everyone and welcome to live text covera...   \n",
       "93343  Hello and welcome to the live commentary of th...   \n",
       "93344  Hello and welcome to live coverage of the Prem...   \n",
       "93347  Hello and welcome to live coverage of this Pre...   \n",
       "\n",
       "                                                 summary  \\\n",
       "id                                                         \n",
       "93323  Referee: Peter Bankes. Assistants: Dan Robatha...   \n",
       "93336  Referee: Robert Jones. Assistants: Ian Hussin,...   \n",
       "93343                                                NaN   \n",
       "93344  Referee: Anthony Taylor. Assistants: Gary Besw...   \n",
       "93347                                                NaN   \n",
       "\n",
       "                                                    text  \n",
       "id                                                        \n",
       "93323  Bournemouth West Ham 2023-08-12 Vitality Stadi...  \n",
       "93336  Man City Newcastle 2023-08-19 Etihad Stadium, ...  \n",
       "93343  Brentford Crystal Palace 2023-08-26 Gtech Comm...  \n",
       "93344  Brighton West Ham 2023-08-26 American Express ...  \n",
       "93347  Everton Wolves 2023-08-26 Goodison Park, Liver...  "
      ]
     },
     "execution_count": 9,
     "metadata": {},
     "output_type": "execute_result"
    }
   ],
   "source": [
    "match_csv_df['text'] = match_csv_df[match_csv_df.columns].astype(str).agg(' '.join, axis=1, )\n",
    "match_csv_df.head()"
   ]
  },
  {
   "cell_type": "code",
   "execution_count": 10,
   "metadata": {},
   "outputs": [
    {
     "data": {
      "text/html": [
       "<div>\n",
       "<style scoped>\n",
       "    .dataframe tbody tr th:only-of-type {\n",
       "        vertical-align: middle;\n",
       "    }\n",
       "\n",
       "    .dataframe tbody tr th {\n",
       "        vertical-align: top;\n",
       "    }\n",
       "\n",
       "    .dataframe thead th {\n",
       "        text-align: right;\n",
       "    }\n",
       "</style>\n",
       "<table border=\"1\" class=\"dataframe\">\n",
       "  <thead>\n",
       "    <tr style=\"text-align: right;\">\n",
       "      <th></th>\n",
       "      <th>text</th>\n",
       "    </tr>\n",
       "    <tr>\n",
       "      <th>id</th>\n",
       "      <th></th>\n",
       "    </tr>\n",
       "  </thead>\n",
       "  <tbody>\n",
       "    <tr>\n",
       "      <th>93323</th>\n",
       "      <td>Bournemouth West Ham 2023-08-12 Vitality Stadium, Bournemouth nan Robert Jones Hello and welcome to live coverage of the Premier League clash between Burnley and Manchester City at Turf Moor.\\nThe...</td>\n",
       "    </tr>\n",
       "    <tr>\n",
       "      <th>93336</th>\n",
       "      <td>Man City Newcastle 2023-08-19 Etihad Stadium, Manchester nan Robert Jones Hello everyone and welcome to live text coverage of the Premier League match between Arsenal and Nottingham Forest at the ...</td>\n",
       "    </tr>\n",
       "    <tr>\n",
       "      <th>93343</th>\n",
       "      <td>Brentford Crystal Palace 2023-08-26 Gtech Community Stadium, Brentford 16997.0 Peter Bankes Hello and welcome to the live commentary of the Premier League clash between Bournemouth and West Ham at...</td>\n",
       "    </tr>\n",
       "    <tr>\n",
       "      <th>93344</th>\n",
       "      <td>Brighton West Ham 2023-08-26 American Express Stadium, Falmer 31508.0 Anthony Taylor Hello and welcome to live coverage of the Premier League meeting between Brighton and Hove Albion and Luton Tow...</td>\n",
       "    </tr>\n",
       "    <tr>\n",
       "      <th>93347</th>\n",
       "      <td>Everton Wolves 2023-08-26 Goodison Park, Liverpool 38851.0 Craig Pawson Hello and welcome to live coverage of this Premier League fixture as Everton get their 2023-24 campaign under way against Fu...</td>\n",
       "    </tr>\n",
       "  </tbody>\n",
       "</table>\n",
       "</div>"
      ],
      "text/plain": [
       "                                                                                                                                                                                                          text\n",
       "id                                                                                                                                                                                                            \n",
       "93323  Bournemouth West Ham 2023-08-12 Vitality Stadium, Bournemouth nan Robert Jones Hello and welcome to live coverage of the Premier League clash between Burnley and Manchester City at Turf Moor.\\nThe...\n",
       "93336  Man City Newcastle 2023-08-19 Etihad Stadium, Manchester nan Robert Jones Hello everyone and welcome to live text coverage of the Premier League match between Arsenal and Nottingham Forest at the ...\n",
       "93343  Brentford Crystal Palace 2023-08-26 Gtech Community Stadium, Brentford 16997.0 Peter Bankes Hello and welcome to the live commentary of the Premier League clash between Bournemouth and West Ham at...\n",
       "93344  Brighton West Ham 2023-08-26 American Express Stadium, Falmer 31508.0 Anthony Taylor Hello and welcome to live coverage of the Premier League meeting between Brighton and Hove Albion and Luton Tow...\n",
       "93347  Everton Wolves 2023-08-26 Goodison Park, Liverpool 38851.0 Craig Pawson Hello and welcome to live coverage of this Premier League fixture as Everton get their 2023-24 campaign under way against Fu..."
      ]
     },
     "execution_count": 10,
     "metadata": {},
     "output_type": "execute_result"
    }
   ],
   "source": [
    "pd.set_option('display.max_colwidth', 200)\n",
    "match_df = pd.DataFrame(match_csv_df['text'])\n",
    "match_df.head()"
   ]
  },
  {
   "cell_type": "code",
   "execution_count": 11,
   "metadata": {},
   "outputs": [],
   "source": [
    "pd.reset_option('display.max_colwidth');"
   ]
  },
  {
   "cell_type": "code",
   "execution_count": 12,
   "metadata": {},
   "outputs": [
    {
     "data": {
      "text/plain": [
       "text    Bournemouth West Ham 2023-08-12 Vitality Stadi...\n",
       "Name: 93323, dtype: object"
      ]
     },
     "execution_count": 12,
     "metadata": {},
     "output_type": "execute_result"
    }
   ],
   "source": [
    "match_df.iloc[0]"
   ]
  },
  {
   "cell_type": "markdown",
   "metadata": {},
   "source": [
    "### Our match is first on the list. Let's extract the commentary with other details into a string which will be our context."
   ]
  },
  {
   "cell_type": "code",
   "execution_count": 13,
   "metadata": {},
   "outputs": [
    {
     "name": "stdout",
     "output_type": "stream",
     "text": [
      "Bournemouth West Ham 2023-08-12 Vitality Stadium, Bournemouth nan Robert Jones Hello and welcome to live coverage of the Premier League clash between Burnley and Manchester City at Turf Moor.\n",
      "The Premier League is back for a new season, and it gets underway with an intriguing match-up between a newly promoted side and the reigning champions. Burnley could have hardly been given a tougher opening fixture, but they should come into it with confidence after cruising to the Championship title last time out in their first season back in the second tier. Led by Vincent Kompany, a Citizens' legend from his playing career, Burnley reached 101 points and secured promotion with seven games to play, and they will be hoping to get off the mark with a positive result on home soil.\n",
      "City, meanwhile, claimed a historic treble last term, finally winning their first Champions League title while also taking Premier League and FA Cup glory. It has been a transfer window of change with key players of recent years such as Riyad Mahrez and Ilkay Gundogan leaving the club, but they still come into this campaign expected to be frontrunners and they will be looking to get off to a winning start as they bid for a sixth Premier League crown in seven seasons.\n",
      "BURNLEY (4-4-2): James Trafford; Connor Roberts, Dara O'Shea, Ameen Al Dakhil, Jordan Beyer; Luca Koleosho, Sander Berge, Josh Cullen, Vitinho; Mohamed Zeki Amdouni, Lyle Foster.\n",
      "SUBS: Josh Brownhill, Jacob Bruun Larsen, Arijanet Muric, Manuel Benson, Anass Zaroury, Jack Cork, Nathan Redmond, Hjalmar Ekdal, Johann Gudmundsson.\n",
      "MANCHESTER CITY (4-2-3-1): Ederson; Kyle Walker, Manuel Akanji, Nathan Ake, Rico Lewis; Kevin De Bruyne, Rodri; Bernardo Silva, Julian Alvarez, Phil Foden; Erling Haaland.\n",
      "SUBS: Aymeric Laporte, Kalvin Phillips, Cole Palmer, James McAtee, Sergio Gomez, Stefan Ortega Moreno, Mateo Kovacic, Josko Gvardiol, Jack Grealish.\n",
      "Kompany includes six new signings as Trafford, signed from City in this window, starts between the sticks while O'Shea comes into the back four alongside Al Dakhil, who has had his loan move made permanent after impressing last season. Berge, Koleosho and Amdouni are the other fresh faces set to play from the off.\n",
      "In contrast, Pep Guardiola opts to leave his new arrivals on the bench as Gvardiol and Kovacic will be made to wait for their competitive City debuts. Key defenders John Stones and Ruben Dias both miss out through injury while Grealish is on the bench. Lewis starts and so does Alvarez, charged with supporting the prolific Haaland in attack.\n",
      "The two teams make their way onto the pitch ahead of the opening Premier League game of the season!\n",
      "Burnley kick us off, and we are underway in what promises to be another thrilling campaign!\n",
      "De Bruyne wins an early corner as City look to quiet the lively home crowd with an opening goal.\n",
      "GOAL!!! HAALAND PUTS CITY AHEAD!!! Having netted 36 Premier League goals last season, it has taken just four minutes for him to open his account for this campaign. It is a typical Haaland goal as he lurks in the box while De Bruyne lofts a deep cross for Rodri. The midfielder nods it back across, and the Norway international is waiting to smash home and put the champions 1-0 up!\n",
      "Rodri's header was clever to put it on a plate for Haaland, who finished with typical aplomb.\n",
      "Burnley fans and players scream for a penalty as Amdouni goes down under the challenge of Akanji, but the referee waves away the protests before a VAR review confirms no spot-kick will be awarded.\n",
      "It is far from the ideal start for Kompany and the Clarets, who find themselves a goal down against the defending champions. Can they respond?\n",
      "De Bruyne whips a dangerous ball into the box, and Haaland is there to meet it at the back post. It is at an awkward height, though, and the striker can only volley high over the crossbar.\n",
      "Haaland – who scored twice in City's opening Premier League game last season – scored a hat-trick in his only previous game against Burnley, a 6-0 win in last season's FA Cup quarter-final. It took him only four minutes to net here in the opening game for the Citizens for a second campaign in a row.\n",
      "Burnley work the ball nicely into the visitors' penalty area, and it eventually ends up at the feet of Koleosho. The 18-year-old tries to pick out the far corner, but he gets well underneath his effort and Ederson watches it soar over his crossbar. That was better from Kompany's side, though.\n",
      "Trafford makes a brilliant stop to deny Rodri's header after Burnley were caught out at a set-piece situation, though a delayed flag goes up for offside and the goal would not have counted anyway.\n",
      "Amdouni gives Ederson his first test of the contest, though the City goalkeeper is able to get down and save the low shot with relative ease.\n",
      "City have had 69.7 per cent of the possession so far, but Burnley are certainly showing no signs of being overawed and have exhibited some neat attacking play themselves.\n",
      "Guardiola may be forced into an early change, and it would be an especially damaging one too as De Bruyne clutches at his hamstring.\n",
      "De Bruyne does indeed limp off, and Kovacic comes on in his place for his City debut.\n",
      "Haaland has now contributed to at least one goal in his last seven Premier League away games (seven goals, one assist).\n",
      "Rodri makes a vital interception to nip the ball away from Amdouni after Lewis gave possession away in a dangerous situation. That is a huge let-off for the youngster.\n",
      "Foster cuts in on his right foot and tries to curl into the far corner, but he cannot get enough bend on his effort and it flies wide of the post. Burnley are looking lively when they come forward.\n",
      "Burnley have won just one of their last 23 league matches against Manchester City (D6 L16) and have lost the last eight in a row by an aggregate score of 26-1. They have responded well to going behind here, though.\n",
      "City are just enjoying a spell of possession as they try to slow the momentum their hosts had built up in recent minutes.\n",
      "Some brilliant interplay between Kovacic and Foden takes the latter into a dangerous position in the Burnley box, but Trafford does brilliantly to race out of his goal and snuff out the chance for a shot.\n",
      "GOAL!!! HAALAND AGAIN!!! It is a quite brilliant finish to put City 2-0 up, perhaps against the run of play, as he receives the ball in the box from Alvarez. He opts to shoot first-time, and he curls superbly into the top left corner, kissing the crossbar and going in to put his team in control at Turf Moor.\n",
      "Alvarez's lay-off was perfectly weighted for Haaland to arrow home.\n",
      "Burnley will feel hard done by to be two behind, but City have been magnificently ruthless. Two shots on target and two goals for the Citizens, who are surely on their way to three points to kick off the season.\n",
      "In all competitions, City have won 11 games in a row against Burnley, scoring 40 goals and conceding just one. They beat them 6-0 in the FA Cup last season, inflicting the Clarets' heaviest defeat since losing 6-0 to City themselves in March 1999 in a league game.\n",
      "Having responded well to City's first goal, the second does seem to have knocked the wind out of Burnley's sails and the home crowd have certainly quietened. It may be a case of getting to the break just the two goals down to regroup and go again in the second 45 minutes.\n",
      "There will be five minutes of additional time at the end of this first half.\n",
      "Burnley have won their opening game in just two of their eight previous Premier League seasons (D1 L5), winning 3-2 at reigning champions Chelsea in 2017-18 and 3-0 at home to Southampton in 2019-20.\n",
      "HALF-TIME: BURNLEY 0-2 MANCHESTER CITY\n",
      "The half-time whistle blows as City take a 2-0 lead into the break after a ruthless display in the opening period. They were ahead after just four minutes, Haaland opening his account for the season by smashing home from Rodri's clever headed assist. Burnley responded well to going 1-0 down and could have levelled through Koleosho and then Foster, but they would go two goals behind before the break as Haaland curled home superbly from Alvarez's lay-off to leave the champions very much in the ascendancy at the interval.\n",
      "Burnley are in an unfamiliar situation having been so dominant in the Championship last season, but Kompany will remain encouraged by his team's first-half performance despite the scoreline. It would take an almighty effort to recover anything from this game though, facing a side who are unbeaten in their last 44 Premier League games when leading at half-time, failing to win just three of those.\n",
      "City get us back underway for the second period.\n",
      "City have won their opening Premier League game in 12 of the last 14 seasons, with both exceptions coming against Tottenham (0-0 in 2010-11, 0-1 in 2021-22). They look on their way to another victory to kick off the season here.\n",
      "O'Shea makes an important intervention to nip in and take the ball off the toes of Haaland after Silva tried to feed the striker.\n",
      "Haaland races onto Alvarez's throughball but the pass takes him wide, and O'Shea does well to race back and block the forward's eventual shot behind for a corner.\n",
      "Rodri lets fly with a fierce effort from 30 yards out, and Trafford is forced to tip it over his crossbar for a corner. The City midfielder then gets his head on the end of the resulting set-piece, but Trafford is again equal to it and gathers down to his right.\n",
      "The Clarets will have to produce more going forward if they are to make an unlikely comeback, accumulating just 0.23 xG (expected goals) to this point.\n",
      "A sweeping City move sees them carve Burnley open again. Haaland lays the ball to his right for Alvarez, but the Argentina international's first touch takes him wide and his drive ends up flying well wide of the right post.\n",
      "Kompany looks to his bench, first introducing Bruun Larsen for his Burnley debut in place of Koleosho.\n",
      "Zaroury also comes on for Amdouni.\n",
      "What impact will those changes have on the hosts' attacking efforts?\n",
      "Burnley's last shot came all the way back in the 37th minute. For all of their impressive work, they have just lacked a little in the final third in this game.\n",
      "Rodri marauds forwards and space looks to have opened up for him to smash towards goal. He just seems hesitant to pull the trigger, though, and by the time he finally does, a Burnley defender is well-placed to block his drive.\n",
      "With 20 minutes to play, can City see the remainder of the game out for three points to kick off what they hope will be another successful defence of their Premier League crown?\n",
      "Foden tries to pick out Haaland in lots of space in the box, but he gets the cross wrong and it flies well out of his striker's reach.\n",
      "Beyer limps off for Benson.\n",
      "GOAL!!! RODRI SURELY KILLS IT OFF!!! After City were awarded a free-kick for Al Dakhil bundling over Haaland, Foden's set-piece delivery causes havoc in the Burnley box as they fail to clear their lines. It sits up nicely for Rodri to hit, and he coolly smashes home to make it 3-0 to the visitors and surely end any hopes of a Clarets comeback.\n",
      "With the result surely beyond doubt, it appears Guardiola will look to shake it up by making substitutes.\n",
      "Guardiola does indeed make changes, first bringing on Gvardiol for his City debut as Lewis makes way.\n",
      "Ake is replaced by Laporte.\n",
      "Haaland will not get a hat-trick to start the season as his outing is over. Palmer is on in his place.\n",
      "Burnley lost just one home league game in 2022-23 (W16 D6), going down 2-1 against QPR in April. However, as a Premier League side they have lost five of their last eight at Turf Moor, and they look on course for another defeat here.\n",
      "Alvarez stings the palms of Trafford with a fierce drive, though the goalkeeper deals with it well.\n",
      "Rodri's strike has capped an excellent performance, pulling the strings for the Citizens with an assist and a goal while leading his team in final third entries (14) and touches (88).\n",
      "The fourth official puts up his board and indicates there will be six minutes of additional time at the end of this game.\n",
      "Berge makes way for Brownhill.\n",
      "Redmond enters the fray for Foster.\n",
      "Zaroury brings down Walker with a sliding challenge, receiving the first yellow of the contest. However, VAR is checking for a potential red card, and Zaroury may be in further trouble...\n",
      "ZAROURY IS SENT OFF!!! The replays show the substitute's right foot catches Walker high on his left leg, and a VAR review rules the tackle is worthy of a red card. Burnley are down to 10 men!\n",
      "Walker, just involved in the incident that saw Zaroury given his marching orders, makes way for McAtee.\n",
      "FULL-TIME: BURNLEY 0-3 MANCHESTER CITY\n",
      "City's Premier League title defence is off to a winning start as they claim a comfortable 3-0 triumph over newly promoted Burnley at Turf Moor. They were set on their way to victory just four minutes in, Haaland thumping home Rodri's neat assist before the prolific striker made it 2-0 before the break with a sublime curling finish. It was a long way back for the Clarets, and any hopes of an unlikely turnaround were ended 15 minutes from time when Rodri smashed into the back of the net after a free-kick caused havoc in the Burnley penalty area. Things got even worse for the hosts in the dying seconds as Zaroury initially received a yellow card for a foul on Walker, only for a VAR review to adjudge the tackle to be worthy of a sending-off as City run out easy victors.\n",
      "The first Premier League game of the season goes the way of the champions, moving them top of the league ahead of the rest of the opening round of fixtures this weekend. That is a position they will attempt not to relinquish in their bid for a sixth league title in seven seasons. For Kompany and Burnley, they will be encouraged by a decent performance, if not the result, in a fixture that will be one of the hardest they play all season.\n",
      "Thanks for joining us for live coverage of Manchester City's 3-0 Premier League victory over Burnley at Turf Moor. Goodbye! Referee: Peter Bankes. Assistants: Dan Robathan, Nick Greenhalgh. Fourth official: Gavin Ward. VAR: Michael Salisbury. Assistant VAR: Neil Davies.\n"
     ]
    }
   ],
   "source": [
    "first_match = match_df['text'].iloc[0]\n",
    "print(first_match)"
   ]
  },
  {
   "cell_type": "markdown",
   "metadata": {},
   "source": [
    "### This is the part then Zaroury is sent off with a red card"
   ]
  },
  {
   "cell_type": "code",
   "execution_count": 14,
   "metadata": {},
   "outputs": [
    {
     "name": "stdout",
     "output_type": "stream",
     "text": [
      "Zaroury brings down Walker with a sliding challenge, receiving the first yellow of the contest. However, VAR is checking for a potential red card, and Zaroury may be in further trouble...\n",
      "ZAROURY IS SENT OFF!!! The replays show the substitute's right foot catches Walker high on his left leg, and a VAR review rules the tackle is worthy of a red card. Burnley are down to 10 men!\n",
      "Walker, just involved in the incident that saw Zaroury given his marching orders, makes way for McAtee.\n"
     ]
    }
   ],
   "source": [
    "zaroury_red_index = first_match.find('ZAROURY IS SENT OFF!!!')\n",
    "print(first_match[zaroury_red_index-188:zaroury_red_index+295])"
   ]
  },
  {
   "cell_type": "markdown",
   "metadata": {},
   "source": [
    "### Let's enhance our query with context containing match details."
   ]
  },
  {
   "cell_type": "code",
   "execution_count": 15,
   "metadata": {},
   "outputs": [],
   "source": [
    "context = first_match\n",
    "question = 'In which premier league match Zaroury was sent off after a foul on Walker?'"
   ]
  },
  {
   "cell_type": "markdown",
   "metadata": {},
   "source": [
    "### This time we will ask local Ollama, as we are aiming for a RAG that can be run even on bare metal servers in highly secure, air-gapped (no Internet) environment. You can start locally Ollama by running this command:\n",
    "```bash\n",
    "docker run -d -v ollama:/root/.ollama -p 11434:11434 --name ollama_0_4_7 ollama/ollama:0.4.7\n",
    "```"
   ]
  },
  {
   "cell_type": "code",
   "execution_count": 17,
   "metadata": {},
   "outputs": [
    {
     "name": "stdout",
     "output_type": "stream",
     "text": [
      "886bff33b71e32abeeb1aef99e1f72faf275a9e5bcd67c51261822059113890c\n"
     ]
    }
   ],
   "source": [
    "!docker run -d -v ollama:/root/.ollama -p 11434:11434 --name ollama_0_4_7 ollama/ollama:0.4.7"
   ]
  },
  {
   "cell_type": "markdown",
   "metadata": {},
   "source": [
    "### Let's run a pull command inside Ollama container to download our target model"
   ]
  },
  {
   "cell_type": "code",
   "execution_count": 18,
   "metadata": {},
   "outputs": [
    {
     "name": "stdout",
     "output_type": "stream",
     "text": [
      "\u001b[?25lpulling manifest ⠋ \u001b[?25h\u001b[?25l\u001b[2K\u001b[1Gpulling manifest ⠙ \u001b[?25h\u001b[?25l\u001b[2K\u001b[1Gpulling manifest ⠹ \u001b[?25h\u001b[?25l\u001b[2K\u001b[1Gpulling manifest ⠸ \u001b[?25h\u001b[?25l\u001b[2K\u001b[1Gpulling manifest ⠼ \u001b[?25h\u001b[?25l\u001b[2K\u001b[1Gpulling manifest ⠴ \u001b[?25h\u001b[?25l\u001b[2K\u001b[1Gpulling manifest ⠦ \u001b[?25h\u001b[?25l\u001b[2K\u001b[1Gpulling manifest \n",
      "pulling dde5aa3fc5ff... 100% ▕████████████████▏ 2.0 GB                         \n",
      "pulling 966de95ca8a6... 100% ▕████████████████▏ 1.4 KB                         \n",
      "pulling fcc5a6bec9da... 100% ▕████████████████▏ 7.7 KB                         \n",
      "pulling a70ff7e570d9... 100% ▕████████████████▏ 6.0 KB                         \n",
      "pulling 56bb8bd477a5... 100% ▕████████████████▏   96 B                         \n",
      "pulling 34bb5ab01051... 100% ▕████████████████▏  561 B                         \n",
      "verifying sha256 digest \n",
      "writing manifest \n",
      "success \u001b[?25h\n"
     ]
    }
   ],
   "source": [
    "!docker exec ollama_0_4_7 ollama pull llama3.2:3b"
   ]
  },
  {
   "cell_type": "code",
   "execution_count": 19,
   "metadata": {},
   "outputs": [],
   "source": [
    "from ollama import chat, ChatResponse"
   ]
  },
  {
   "cell_type": "code",
   "execution_count": 20,
   "metadata": {},
   "outputs": [
    {
     "name": "stdout",
     "output_type": "stream",
     "text": [
      "Zaroury was sent off in the Premier League match against Burnley at Turf Moor after a foul on Walker, with a red card.\n"
     ]
    }
   ],
   "source": [
    "prompt = f\"\"\"Given below context:\n",
    "\n",
    "```\n",
    "{context}\n",
    "```\n",
    "\n",
    "Answer below question:\n",
    "\n",
    "```\n",
    "{question}\n",
    "```\n",
    "\"\"\"\n",
    "\n",
    "response: ChatResponse = chat(model='llama3.2:1b', messages=[\n",
    "  {\n",
    "    'role': 'user',\n",
    "    'content': prompt,\n",
    "  },\n",
    "])\n",
    "print(response.message.content)"
   ]
  },
  {
   "cell_type": "markdown",
   "metadata": {},
   "source": [
    "### Response looks promising, but let's get the date of the match."
   ]
  },
  {
   "cell_type": "code",
   "execution_count": 21,
   "metadata": {},
   "outputs": [],
   "source": [
    "context = first_match\n",
    "question = 'In which premier league match Zaroury was sent off after a foul on Walker? Anwer with result and date of the match.'"
   ]
  },
  {
   "cell_type": "code",
   "execution_count": 23,
   "metadata": {},
   "outputs": [
    {
     "name": "stdout",
     "output_type": "stream",
     "text": [
      "Zaroury was sent off in Manchester City's 3-0 Premier League victory over Burnley at Turf Moor, on October 1, 2022.\n"
     ]
    }
   ],
   "source": [
    "prompt = f\"\"\"Given below context:\n",
    "\n",
    "```\n",
    "{context}\n",
    "```\n",
    "\n",
    "Answer below question:\n",
    "\n",
    "```\n",
    "{question}\n",
    "```\n",
    "\"\"\"\n",
    "\n",
    "response: ChatResponse = chat(model='llama3.2:1b', messages=[\n",
    "  {\n",
    "    'role': 'user',\n",
    "    'content': prompt,\n",
    "  },\n",
    "])\n",
    "print(response.message.content)"
   ]
  },
  {
   "cell_type": "markdown",
   "metadata": {},
   "source": [
    "### Originally it took over 3 minutes to get a response on my 8 core Mac Pro 2019. Check the resource consumption below (BTW: last screenshot is from [lazydocker](https://github.com/jesseduffield/lazydocker)):\n",
    "![](images/activity-monitor.png \"\")\n",
    "![](images/cpu-history.png \"\")\n",
    "![](images/lazydocker-ollama.png \"\")\n",
    "### But the answer is wrong. Where did he get this October from? Let's try to find out..."
   ]
  },
  {
   "cell_type": "code",
   "execution_count": 24,
   "metadata": {},
   "outputs": [],
   "source": [
    "import re"
   ]
  },
  {
   "cell_type": "code",
   "execution_count": 25,
   "metadata": {},
   "outputs": [
    {
     "data": {
      "text/plain": [
       "[]"
      ]
     },
     "execution_count": 25,
     "metadata": {},
     "output_type": "execute_result"
    }
   ],
   "source": [
    "re.compile('october|oct', re.IGNORECASE).findall(first_match)"
   ]
  },
  {
   "cell_type": "code",
   "execution_count": 26,
   "metadata": {},
   "outputs": [
    {
     "data": {
      "text/plain": [
       "['10', '10', '10']"
      ]
     },
     "execution_count": 26,
     "metadata": {},
     "output_type": "execute_result"
    }
   ],
   "source": [
    "re.compile('10', re.IGNORECASE).findall(first_match)"
   ]
  },
  {
   "cell_type": "code",
   "execution_count": 27,
   "metadata": {},
   "outputs": [
    {
     "name": "stdout",
     "output_type": "stream",
     "text": [
      "urnley reached 101 points and se\n",
      "nham (0-0 in 2010-11, 0-1 in 202\n",
      "ey are down to 10 men!\n",
      "Walker, j\n"
     ]
    }
   ],
   "source": [
    "for match in re.compile('10', re.IGNORECASE).finditer(first_match):\n",
    "    print(first_match[match.start()-15:match.end()+15])"
   ]
  },
  {
   "cell_type": "markdown",
   "metadata": {},
   "source": [
    "### OK, there are some 10s in the text, but not suggesting October. Let's try the same question with bigger (3B) model. To do this we need to pull bigger model with below command."
   ]
  },
  {
   "cell_type": "code",
   "execution_count": 28,
   "metadata": {},
   "outputs": [
    {
     "name": "stdout",
     "output_type": "stream",
     "text": [
      "\u001b[?25lpulling manifest ⠋ \u001b[?25h\u001b[?25l\u001b[2K\u001b[1Gpulling manifest ⠙ \u001b[?25h\u001b[?25l\u001b[2K\u001b[1Gpulling manifest ⠹ \u001b[?25h\u001b[?25l\u001b[2K\u001b[1Gpulling manifest ⠼ \u001b[?25h\u001b[?25l\u001b[2K\u001b[1Gpulling manifest ⠼ \u001b[?25h\u001b[?25l\u001b[2K\u001b[1Gpulling manifest ⠦ \u001b[?25h\u001b[?25l\u001b[2K\u001b[1Gpulling manifest ⠦ \u001b[?25h\u001b[?25l\u001b[2K\u001b[1Gpulling manifest ⠧ \u001b[?25h\u001b[?25l\u001b[2K\u001b[1Gpulling manifest \n",
      "pulling dde5aa3fc5ff... 100% ▕████████████████▏ 2.0 GB                         \n",
      "pulling 966de95ca8a6... 100% ▕████████████████▏ 1.4 KB                         \n",
      "pulling fcc5a6bec9da... 100% ▕████████████████▏ 7.7 KB                         \n",
      "pulling a70ff7e570d9... 100% ▕████████████████▏ 6.0 KB                         \n",
      "pulling 56bb8bd477a5... 100% ▕████████████████▏   96 B                         \n",
      "pulling 34bb5ab01051... 100% ▕████████████████▏  561 B                         \n",
      "verifying sha256 digest \n",
      "writing manifest \n",
      "success \u001b[?25h\n"
     ]
    }
   ],
   "source": [
    "!docker exec ollama_0_4_7 ollama pull llama3.2:3b"
   ]
  },
  {
   "cell_type": "code",
   "execution_count": 29,
   "metadata": {},
   "outputs": [
    {
     "name": "stdout",
     "output_type": "stream",
     "text": [
      "The Premier League match in which Zaroury was sent off after a foul on Walker was against Manchester City at Turf Moor. However, Zaroury's sending-off occurred 6 minutes into the additional time period.\n",
      "\n",
      "I couldn't find any information about Zaroury being sent off with 20 minutes to play and Burnley down by one goal.\n"
     ]
    }
   ],
   "source": [
    "prompt = f\"\"\"Given below context:\n",
    "\n",
    "```\n",
    "{context}\n",
    "```\n",
    "\n",
    "Answer below question:\n",
    "\n",
    "```\n",
    "{question}\n",
    "```\n",
    "\"\"\"\n",
    "\n",
    "response: ChatResponse = chat(model='llama3.2:3b', messages=[\n",
    "  {\n",
    "    'role': 'user',\n",
    "    'content': prompt,\n",
    "  },\n",
    "])\n",
    "print(response.message.content)"
   ]
  },
  {
   "cell_type": "markdown",
   "metadata": {},
   "source": [
    "### Hmmm..., strange, let's check the Ollama container logs ...\n",
    "![ollama logs](images/truncated-prompt.png \"ollama logs\")\n",
    "### OMG, context was truncated, let's fix it and try again with both Ollama models."
   ]
  },
  {
   "cell_type": "code",
   "execution_count": 30,
   "metadata": {},
   "outputs": [
    {
     "name": "stdout",
     "output_type": "stream",
     "text": [
      "Zarur was sent off in the Premier League match against West Ham on September 24, 2023. The match was played at the London Stadium, and Manchester City won 2-0.\n"
     ]
    }
   ],
   "source": [
    "prompt = f\"\"\"Given below context:\n",
    "\n",
    "```\n",
    "{context}\n",
    "```\n",
    "\n",
    "Answer below question:\n",
    "\n",
    "```\n",
    "{question}\n",
    "```\n",
    "\"\"\"\n",
    "\n",
    "response: ChatResponse = chat(model='llama3.2:1b', messages=[\n",
    "  {\n",
    "    'role': 'user',\n",
    "    'content': prompt,\n",
    "  }],\n",
    "  options={\"num_ctx\": 4096}\n",
    ")\n",
    "print(response.message.content)"
   ]
  },
  {
   "cell_type": "code",
   "execution_count": 31,
   "metadata": {},
   "outputs": [
    {
     "name": "stdout",
     "output_type": "stream",
     "text": [
      "The match where Zaroury was sent off after a foul on Walker is Manchester City vs Burnley, played on 12 August 2023 at Turf Moor. The match ended in a 3-0 win for Manchester City.\n",
      "\n",
      "Zaroury received a red card and was sent off in the 84th minute of the game.\n"
     ]
    }
   ],
   "source": [
    "prompt = f\"\"\"Given below context:\n",
    "\n",
    "```\n",
    "{context}\n",
    "```\n",
    "\n",
    "Answer below question:\n",
    "\n",
    "```\n",
    "{question}\n",
    "```\n",
    "\"\"\"\n",
    "\n",
    "response: ChatResponse = chat(model='llama3.2:3b', messages=[\n",
    "  {\n",
    "    'role': 'user',\n",
    "    'content': prompt,\n",
    "  }],\n",
    "  options={\"num_ctx\": 4096}\n",
    ")\n",
    "print(response.message.content)"
   ]
  },
  {
   "cell_type": "markdown",
   "metadata": {},
   "source": [
    "### OK, seems like we will not get this answer from Ollama 1B, but 3B sometimes answers \"correctly\". On one hand, this is correct, because date is loosely dropped and the beginning of the match commentary, but on the other hand it could be derived from the text. Let's try with GPT API, but now including the context the same way as for Ollama."
   ]
  },
  {
   "cell_type": "code",
   "execution_count": 32,
   "metadata": {},
   "outputs": [
    {
     "name": "stdout",
     "output_type": "stream",
     "text": [
      "Given below context:\n",
      "\n",
      "```\n",
      "Bournemouth West Ham 2023-08-12 Vitality Stadium, Bournemouth nan Robert Jones Hello and welcome to live coverage of the Premier League clash between Burnley and Manchester City at Turf Moor.\n",
      "The Premier League is back for a new season, and it gets underway with an intriguing match-up between a newly promoted side and the reigning champions. Burnley could have hardly been given a tougher opening fixture, but they should come into it with confidence after cruising to the Championship title last time out in their first season back in the second tier. Led by Vincent Kompany, a Citizens' legend from his playing career, Burnley reached 101 points and secured promotion with seven games to play, and they will be hoping to get off the mark with a positive result on home soil.\n",
      "City, meanwhile, claimed a historic treble last term, finally winning their first Champions League title while also taking Premier League and FA Cup glory. It has been a transfer window of change with key players of recent years such as Riyad Mahrez and Ilkay Gundogan leaving the club, but they still come into this campaign expected to be frontrunners and they will be looking to get off to a winning start as they bid for a sixth Premier League crown in seven seasons.\n",
      "BURNLEY (4-4-2): James Trafford; Connor Roberts, Dara O'Shea, Ameen Al Dakhil, Jordan Beyer; Luca Koleosho, Sander Berge, Josh Cullen, Vitinho; Mohamed Zeki Amdouni, Lyle Foster.\n",
      "SUBS: Josh Brownhill, Jacob Bruun Larsen, Arijanet Muric, Manuel Benson, Anass Zaroury, Jack Cork, Nathan Redmond, Hjalmar Ekdal, Johann Gudmundsson.\n",
      "MANCHESTER CITY (4-2-3-1): Ederson; Kyle Walker, Manuel Akanji, Nathan Ake, Rico Lewis; Kevin De Bruyne, Rodri; Bernardo Silva, Julian Alvarez, Phil Foden; Erling Haaland.\n",
      "SUBS: Aymeric Laporte, Kalvin Phillips, Cole Palmer, James McAtee, Sergio Gomez, Stefan Ortega Moreno, Mateo Kovacic, Josko Gvardiol, Jack Grealish.\n",
      "Kompany includes six new signings as Trafford, signed from City in this window, starts between the sticks while O'Shea comes into the back four alongside Al Dakhil, who has had his loan move made permanent after impressing last season. Berge, Koleosho and Amdouni are the other fresh faces set to play from the off.\n",
      "In contrast, Pep Guardiola opts to leave his new arrivals on the bench as Gvardiol and Kovacic will be made to wait for their competitive City debuts. Key defenders John Stones and Ruben Dias both miss out through injury while Grealish is on the bench. Lewis starts and so does Alvarez, charged with supporting the prolific Haaland in attack.\n",
      "The two teams make their way onto the pitch ahead of the opening Premier League game of the season!\n",
      "Burnley kick us off, and we are underway in what promises to be another thrilling campaign!\n",
      "De Bruyne wins an early corner as City look to quiet the lively home crowd with an opening goal.\n",
      "GOAL!!! HAALAND PUTS CITY AHEAD!!! Having netted 36 Premier League goals last season, it has taken just four minutes for him to open his account for this campaign. It is a typical Haaland goal as he lurks in the box while De Bruyne lofts a deep cross for Rodri. The midfielder nods it back across, and the Norway international is waiting to smash home and put the champions 1-0 up!\n",
      "Rodri's header was clever to put it on a plate for Haaland, who finished with typical aplomb.\n",
      "Burnley fans and players scream for a penalty as Amdouni goes down under the challenge of Akanji, but the referee waves away the protests before a VAR review confirms no spot-kick will be awarded.\n",
      "It is far from the ideal start for Kompany and the Clarets, who find themselves a goal down against the defending champions. Can they respond?\n",
      "De Bruyne whips a dangerous ball into the box, and Haaland is there to meet it at the back post. It is at an awkward height, though, and the striker can only volley high over the crossbar.\n",
      "Haaland – who scored twice in City's opening Premier League game last season – scored a hat-trick in his only previous game against Burnley, a 6-0 win in last season's FA Cup quarter-final. It took him only four minutes to net here in the opening game for the Citizens for a second campaign in a row.\n",
      "Burnley work the ball nicely into the visitors' penalty area, and it eventually ends up at the feet of Koleosho. The 18-year-old tries to pick out the far corner, but he gets well underneath his effort and Ederson watches it soar over his crossbar. That was better from Kompany's side, though.\n",
      "Trafford makes a brilliant stop to deny Rodri's header after Burnley were caught out at a set-piece situation, though a delayed flag goes up for offside and the goal would not have counted anyway.\n",
      "Amdouni gives Ederson his first test of the contest, though the City goalkeeper is able to get down and save the low shot with relative ease.\n",
      "City have had 69.7 per cent of the possession so far, but Burnley are certainly showing no signs of being overawed and have exhibited some neat attacking play themselves.\n",
      "Guardiola may be forced into an early change, and it would be an especially damaging one too as De Bruyne clutches at his hamstring.\n",
      "De Bruyne does indeed limp off, and Kovacic comes on in his place for his City debut.\n",
      "Haaland has now contributed to at least one goal in his last seven Premier League away games (seven goals, one assist).\n",
      "Rodri makes a vital interception to nip the ball away from Amdouni after Lewis gave possession away in a dangerous situation. That is a huge let-off for the youngster.\n",
      "Foster cuts in on his right foot and tries to curl into the far corner, but he cannot get enough bend on his effort and it flies wide of the post. Burnley are looking lively when they come forward.\n",
      "Burnley have won just one of their last 23 league matches against Manchester City (D6 L16) and have lost the last eight in a row by an aggregate score of 26-1. They have responded well to going behind here, though.\n",
      "City are just enjoying a spell of possession as they try to slow the momentum their hosts had built up in recent minutes.\n",
      "Some brilliant interplay between Kovacic and Foden takes the latter into a dangerous position in the Burnley box, but Trafford does brilliantly to race out of his goal and snuff out the chance for a shot.\n",
      "GOAL!!! HAALAND AGAIN!!! It is a quite brilliant finish to put City 2-0 up, perhaps against the run of play, as he receives the ball in the box from Alvarez. He opts to shoot first-time, and he curls superbly into the top left corner, kissing the crossbar and going in to put his team in control at Turf Moor.\n",
      "Alvarez's lay-off was perfectly weighted for Haaland to arrow home.\n",
      "Burnley will feel hard done by to be two behind, but City have been magnificently ruthless. Two shots on target and two goals for the Citizens, who are surely on their way to three points to kick off the season.\n",
      "In all competitions, City have won 11 games in a row against Burnley, scoring 40 goals and conceding just one. They beat them 6-0 in the FA Cup last season, inflicting the Clarets' heaviest defeat since losing 6-0 to City themselves in March 1999 in a league game.\n",
      "Having responded well to City's first goal, the second does seem to have knocked the wind out of Burnley's sails and the home crowd have certainly quietened. It may be a case of getting to the break just the two goals down to regroup and go again in the second 45 minutes.\n",
      "There will be five minutes of additional time at the end of this first half.\n",
      "Burnley have won their opening game in just two of their eight previous Premier League seasons (D1 L5), winning 3-2 at reigning champions Chelsea in 2017-18 and 3-0 at home to Southampton in 2019-20.\n",
      "HALF-TIME: BURNLEY 0-2 MANCHESTER CITY\n",
      "The half-time whistle blows as City take a 2-0 lead into the break after a ruthless display in the opening period. They were ahead after just four minutes, Haaland opening his account for the season by smashing home from Rodri's clever headed assist. Burnley responded well to going 1-0 down and could have levelled through Koleosho and then Foster, but they would go two goals behind before the break as Haaland curled home superbly from Alvarez's lay-off to leave the champions very much in the ascendancy at the interval.\n",
      "Burnley are in an unfamiliar situation having been so dominant in the Championship last season, but Kompany will remain encouraged by his team's first-half performance despite the scoreline. It would take an almighty effort to recover anything from this game though, facing a side who are unbeaten in their last 44 Premier League games when leading at half-time, failing to win just three of those.\n",
      "City get us back underway for the second period.\n",
      "City have won their opening Premier League game in 12 of the last 14 seasons, with both exceptions coming against Tottenham (0-0 in 2010-11, 0-1 in 2021-22). They look on their way to another victory to kick off the season here.\n",
      "O'Shea makes an important intervention to nip in and take the ball off the toes of Haaland after Silva tried to feed the striker.\n",
      "Haaland races onto Alvarez's throughball but the pass takes him wide, and O'Shea does well to race back and block the forward's eventual shot behind for a corner.\n",
      "Rodri lets fly with a fierce effort from 30 yards out, and Trafford is forced to tip it over his crossbar for a corner. The City midfielder then gets his head on the end of the resulting set-piece, but Trafford is again equal to it and gathers down to his right.\n",
      "The Clarets will have to produce more going forward if they are to make an unlikely comeback, accumulating just 0.23 xG (expected goals) to this point.\n",
      "A sweeping City move sees them carve Burnley open again. Haaland lays the ball to his right for Alvarez, but the Argentina international's first touch takes him wide and his drive ends up flying well wide of the right post.\n",
      "Kompany looks to his bench, first introducing Bruun Larsen for his Burnley debut in place of Koleosho.\n",
      "Zaroury also comes on for Amdouni.\n",
      "What impact will those changes have on the hosts' attacking efforts?\n",
      "Burnley's last shot came all the way back in the 37th minute. For all of their impressive work, they have just lacked a little in the final third in this game.\n",
      "Rodri marauds forwards and space looks to have opened up for him to smash towards goal. He just seems hesitant to pull the trigger, though, and by the time he finally does, a Burnley defender is well-placed to block his drive.\n",
      "With 20 minutes to play, can City see the remainder of the game out for three points to kick off what they hope will be another successful defence of their Premier League crown?\n",
      "Foden tries to pick out Haaland in lots of space in the box, but he gets the cross wrong and it flies well out of his striker's reach.\n",
      "Beyer limps off for Benson.\n",
      "GOAL!!! RODRI SURELY KILLS IT OFF!!! After City were awarded a free-kick for Al Dakhil bundling over Haaland, Foden's set-piece delivery causes havoc in the Burnley box as they fail to clear their lines. It sits up nicely for Rodri to hit, and he coolly smashes home to make it 3-0 to the visitors and surely end any hopes of a Clarets comeback.\n",
      "With the result surely beyond doubt, it appears Guardiola will look to shake it up by making substitutes.\n",
      "Guardiola does indeed make changes, first bringing on Gvardiol for his City debut as Lewis makes way.\n",
      "Ake is replaced by Laporte.\n",
      "Haaland will not get a hat-trick to start the season as his outing is over. Palmer is on in his place.\n",
      "Burnley lost just one home league game in 2022-23 (W16 D6), going down 2-1 against QPR in April. However, as a Premier League side they have lost five of their last eight at Turf Moor, and they look on course for another defeat here.\n",
      "Alvarez stings the palms of Trafford with a fierce drive, though the goalkeeper deals with it well.\n",
      "Rodri's strike has capped an excellent performance, pulling the strings for the Citizens with an assist and a goal while leading his team in final third entries (14) and touches (88).\n",
      "The fourth official puts up his board and indicates there will be six minutes of additional time at the end of this game.\n",
      "Berge makes way for Brownhill.\n",
      "Redmond enters the fray for Foster.\n",
      "Zaroury brings down Walker with a sliding challenge, receiving the first yellow of the contest. However, VAR is checking for a potential red card, and Zaroury may be in further trouble...\n",
      "ZAROURY IS SENT OFF!!! The replays show the substitute's right foot catches Walker high on his left leg, and a VAR review rules the tackle is worthy of a red card. Burnley are down to 10 men!\n",
      "Walker, just involved in the incident that saw Zaroury given his marching orders, makes way for McAtee.\n",
      "FULL-TIME: BURNLEY 0-3 MANCHESTER CITY\n",
      "City's Premier League title defence is off to a winning start as they claim a comfortable 3-0 triumph over newly promoted Burnley at Turf Moor. They were set on their way to victory just four minutes in, Haaland thumping home Rodri's neat assist before the prolific striker made it 2-0 before the break with a sublime curling finish. It was a long way back for the Clarets, and any hopes of an unlikely turnaround were ended 15 minutes from time when Rodri smashed into the back of the net after a free-kick caused havoc in the Burnley penalty area. Things got even worse for the hosts in the dying seconds as Zaroury initially received a yellow card for a foul on Walker, only for a VAR review to adjudge the tackle to be worthy of a sending-off as City run out easy victors.\n",
      "The first Premier League game of the season goes the way of the champions, moving them top of the league ahead of the rest of the opening round of fixtures this weekend. That is a position they will attempt not to relinquish in their bid for a sixth league title in seven seasons. For Kompany and Burnley, they will be encouraged by a decent performance, if not the result, in a fixture that will be one of the hardest they play all season.\n",
      "Thanks for joining us for live coverage of Manchester City's 3-0 Premier League victory over Burnley at Turf Moor. Goodbye! Referee: Peter Bankes. Assistants: Dan Robathan, Nick Greenhalgh. Fourth official: Gavin Ward. VAR: Michael Salisbury. Assistant VAR: Neil Davies.\n",
      "```\n",
      "\n",
      "Answer below question:\n",
      "\n",
      "```\n",
      "In which premier league match Zaroury was sent off after a foul on Walker? Anwer with result and date of the match.\n",
      "```\n",
      "\n"
     ]
    }
   ],
   "source": [
    "print(prompt)"
   ]
  },
  {
   "cell_type": "code",
   "execution_count": 33,
   "metadata": {},
   "outputs": [
    {
     "name": "stdout",
     "output_type": "stream",
     "text": [
      "Zaroury was sent off after a foul on Walker in the Premier League match between Burnley and Manchester City, which ended with a result of Burnley 0-3 Manchester City on August 12, 2023.\n"
     ]
    }
   ],
   "source": [
    "print(ask_gpt(prompt))"
   ]
  },
  {
   "cell_type": "markdown",
   "metadata": {},
   "source": [
    "### OK, we got what we wanted, but of course GPT didn't verified that it should be August 11th. It is fine, because we enforced him to use our \"ground truth\"."
   ]
  },
  {
   "cell_type": "code",
   "execution_count": 34,
   "metadata": {},
   "outputs": [],
   "source": [
    "def ask_llama(prompt=prompt, model='llama3.2:1b'):\n",
    "  response: ChatResponse = chat(model=model, messages=[\n",
    "    {\n",
    "      'role': 'user',\n",
    "      'content': prompt,\n",
    "    }],\n",
    "    options={\"num_ctx\": 8096}\n",
    "  )\n",
    "  print(response.message.content)"
   ]
  },
  {
   "cell_type": "code",
   "execution_count": 35,
   "metadata": {},
   "outputs": [],
   "source": [
    "def gen_prompt(question, context=first_match):\n",
    "    prompt = f\"\"\"Given below context:\n",
    "\n",
    "```\n",
    "{context}\n",
    "```\n",
    "\n",
    "Answer below question:\n",
    "\n",
    "```\n",
    "{question}\n",
    "```\n",
    "\"\"\"\n",
    "    return prompt"
   ]
  },
  {
   "cell_type": "markdown",
   "metadata": {},
   "source": [
    "### Let's try a different question with all our models. We would like to get information that it was a \"clever header\"."
   ]
  },
  {
   "cell_type": "code",
   "execution_count": 36,
   "metadata": {},
   "outputs": [],
   "source": [
    "question = \"In what way Rodri asisted Haland's first goal in opening match for Premier League season 2023/2024?\""
   ]
  },
  {
   "cell_type": "code",
   "execution_count": 37,
   "metadata": {},
   "outputs": [
    {
     "name": "stdout",
     "output_type": "stream",
     "text": [
      "Given below context:\n",
      "\n",
      "```\n",
      "Bournemouth West Ham 2023-08-12 Vitality Stadium, Bournemouth nan Robert Jones Hello and welcome to live coverage of the Premier League clash between Burnley and Manchester City at Turf Moor.\n",
      "The Premier League is back for a new season, and it gets underway with an intriguing match-up between a newly promoted side and the reigning champions. Burnley could have hardly been given a tougher opening fixture, but they should come into it with confidence after cruising to the Championship title last time out in their first season back in the second tier. Led by Vincent Kompany, a Citizens' legend from his playing career, Burnley reached 101 points and secured promotion with seven games to play, and they will be hoping to get off the mark with a positive result on home soil.\n",
      "City, meanwhile, claimed a historic treble last term, finally winning their first Champions League title while also taking Premier League and FA Cup glory. It has been a transfer window of change with key players of recent years such as Riyad Mahrez and Ilkay Gundogan leaving the club, but they still come into this campaign expected to be frontrunners and they will be looking to get off to a winning start as they bid for a sixth Premier League crown in seven seasons.\n",
      "BURNLEY (4-4-2): James Trafford; Connor Roberts, Dara O'Shea, Ameen Al Dakhil, Jordan Beyer; Luca Koleosho, Sander Berge, Josh Cullen, Vitinho; Mohamed Zeki Amdouni, Lyle Foster.\n",
      "SUBS: Josh Brownhill, Jacob Bruun Larsen, Arijanet Muric, Manuel Benson, Anass Zaroury, Jack Cork, Nathan Redmond, Hjalmar Ekdal, Johann Gudmundsson.\n",
      "MANCHESTER CITY (4-2-3-1): Ederson; Kyle Walker, Manuel Akanji, Nathan Ake, Rico Lewis; Kevin De Bruyne, Rodri; Bernardo Silva, Julian Alvarez, Phil Foden; Erling Haaland.\n",
      "SUBS: Aymeric Laporte, Kalvin Phillips, Cole Palmer, James McAtee, Sergio Gomez, Stefan Ortega Moreno, Mateo Kovacic, Josko Gvardiol, Jack Grealish.\n",
      "Kompany includes six new signings as Trafford, signed from City in this window, starts between the sticks while O'Shea comes into the back four alongside Al Dakhil, who has had his loan move made permanent after impressing last season. Berge, Koleosho and Amdouni are the other fresh faces set to play from the off.\n",
      "In contrast, Pep Guardiola opts to leave his new arrivals on the bench as Gvardiol and Kovacic will be made to wait for their competitive City debuts. Key defenders John Stones and Ruben Dias both miss out through injury while Grealish is on the bench. Lewis starts and so does Alvarez, charged with supporting the prolific Haaland in attack.\n",
      "The two teams make their way onto the pitch ahead of the opening Premier League game of the season!\n",
      "Burnley kick us off, and we are underway in what promises to be another thrilling campaign!\n",
      "De Bruyne wins an early corner as City look to quiet the lively home crowd with an opening goal.\n",
      "GOAL!!! HAALAND PUTS CITY AHEAD!!! Having netted 36 Premier League goals last season, it has taken just four minutes for him to open his account for this campaign. It is a typical Haaland goal as he lurks in the box while De Bruyne lofts a deep cross for Rodri. The midfielder nods it back across, and the Norway international is waiting to smash home and put the champions 1-0 up!\n",
      "Rodri's header was clever to put it on a plate for Haaland, who finished with typical aplomb.\n",
      "Burnley fans and players scream for a penalty as Amdouni goes down under the challenge of Akanji, but the referee waves away the protests before a VAR review confirms no spot-kick will be awarded.\n",
      "It is far from the ideal start for Kompany and the Clarets, who find themselves a goal down against the defending champions. Can they respond?\n",
      "De Bruyne whips a dangerous ball into the box, and Haaland is there to meet it at the back post. It is at an awkward height, though, and the striker can only volley high over the crossbar.\n",
      "Haaland – who scored twice in City's opening Premier League game last season – scored a hat-trick in his only previous game against Burnley, a 6-0 win in last season's FA Cup quarter-final. It took him only four minutes to net here in the opening game for the Citizens for a second campaign in a row.\n",
      "Burnley work the ball nicely into the visitors' penalty area, and it eventually ends up at the feet of Koleosho. The 18-year-old tries to pick out the far corner, but he gets well underneath his effort and Ederson watches it soar over his crossbar. That was better from Kompany's side, though.\n",
      "Trafford makes a brilliant stop to deny Rodri's header after Burnley were caught out at a set-piece situation, though a delayed flag goes up for offside and the goal would not have counted anyway.\n",
      "Amdouni gives Ederson his first test of the contest, though the City goalkeeper is able to get down and save the low shot with relative ease.\n",
      "City have had 69.7 per cent of the possession so far, but Burnley are certainly showing no signs of being overawed and have exhibited some neat attacking play themselves.\n",
      "Guardiola may be forced into an early change, and it would be an especially damaging one too as De Bruyne clutches at his hamstring.\n",
      "De Bruyne does indeed limp off, and Kovacic comes on in his place for his City debut.\n",
      "Haaland has now contributed to at least one goal in his last seven Premier League away games (seven goals, one assist).\n",
      "Rodri makes a vital interception to nip the ball away from Amdouni after Lewis gave possession away in a dangerous situation. That is a huge let-off for the youngster.\n",
      "Foster cuts in on his right foot and tries to curl into the far corner, but he cannot get enough bend on his effort and it flies wide of the post. Burnley are looking lively when they come forward.\n",
      "Burnley have won just one of their last 23 league matches against Manchester City (D6 L16) and have lost the last eight in a row by an aggregate score of 26-1. They have responded well to going behind here, though.\n",
      "City are just enjoying a spell of possession as they try to slow the momentum their hosts had built up in recent minutes.\n",
      "Some brilliant interplay between Kovacic and Foden takes the latter into a dangerous position in the Burnley box, but Trafford does brilliantly to race out of his goal and snuff out the chance for a shot.\n",
      "GOAL!!! HAALAND AGAIN!!! It is a quite brilliant finish to put City 2-0 up, perhaps against the run of play, as he receives the ball in the box from Alvarez. He opts to shoot first-time, and he curls superbly into the top left corner, kissing the crossbar and going in to put his team in control at Turf Moor.\n",
      "Alvarez's lay-off was perfectly weighted for Haaland to arrow home.\n",
      "Burnley will feel hard done by to be two behind, but City have been magnificently ruthless. Two shots on target and two goals for the Citizens, who are surely on their way to three points to kick off the season.\n",
      "In all competitions, City have won 11 games in a row against Burnley, scoring 40 goals and conceding just one. They beat them 6-0 in the FA Cup last season, inflicting the Clarets' heaviest defeat since losing 6-0 to City themselves in March 1999 in a league game.\n",
      "Having responded well to City's first goal, the second does seem to have knocked the wind out of Burnley's sails and the home crowd have certainly quietened. It may be a case of getting to the break just the two goals down to regroup and go again in the second 45 minutes.\n",
      "There will be five minutes of additional time at the end of this first half.\n",
      "Burnley have won their opening game in just two of their eight previous Premier League seasons (D1 L5), winning 3-2 at reigning champions Chelsea in 2017-18 and 3-0 at home to Southampton in 2019-20.\n",
      "HALF-TIME: BURNLEY 0-2 MANCHESTER CITY\n",
      "The half-time whistle blows as City take a 2-0 lead into the break after a ruthless display in the opening period. They were ahead after just four minutes, Haaland opening his account for the season by smashing home from Rodri's clever headed assist. Burnley responded well to going 1-0 down and could have levelled through Koleosho and then Foster, but they would go two goals behind before the break as Haaland curled home superbly from Alvarez's lay-off to leave the champions very much in the ascendancy at the interval.\n",
      "Burnley are in an unfamiliar situation having been so dominant in the Championship last season, but Kompany will remain encouraged by his team's first-half performance despite the scoreline. It would take an almighty effort to recover anything from this game though, facing a side who are unbeaten in their last 44 Premier League games when leading at half-time, failing to win just three of those.\n",
      "City get us back underway for the second period.\n",
      "City have won their opening Premier League game in 12 of the last 14 seasons, with both exceptions coming against Tottenham (0-0 in 2010-11, 0-1 in 2021-22). They look on their way to another victory to kick off the season here.\n",
      "O'Shea makes an important intervention to nip in and take the ball off the toes of Haaland after Silva tried to feed the striker.\n",
      "Haaland races onto Alvarez's throughball but the pass takes him wide, and O'Shea does well to race back and block the forward's eventual shot behind for a corner.\n",
      "Rodri lets fly with a fierce effort from 30 yards out, and Trafford is forced to tip it over his crossbar for a corner. The City midfielder then gets his head on the end of the resulting set-piece, but Trafford is again equal to it and gathers down to his right.\n",
      "The Clarets will have to produce more going forward if they are to make an unlikely comeback, accumulating just 0.23 xG (expected goals) to this point.\n",
      "A sweeping City move sees them carve Burnley open again. Haaland lays the ball to his right for Alvarez, but the Argentina international's first touch takes him wide and his drive ends up flying well wide of the right post.\n",
      "Kompany looks to his bench, first introducing Bruun Larsen for his Burnley debut in place of Koleosho.\n",
      "Zaroury also comes on for Amdouni.\n",
      "What impact will those changes have on the hosts' attacking efforts?\n",
      "Burnley's last shot came all the way back in the 37th minute. For all of their impressive work, they have just lacked a little in the final third in this game.\n",
      "Rodri marauds forwards and space looks to have opened up for him to smash towards goal. He just seems hesitant to pull the trigger, though, and by the time he finally does, a Burnley defender is well-placed to block his drive.\n",
      "With 20 minutes to play, can City see the remainder of the game out for three points to kick off what they hope will be another successful defence of their Premier League crown?\n",
      "Foden tries to pick out Haaland in lots of space in the box, but he gets the cross wrong and it flies well out of his striker's reach.\n",
      "Beyer limps off for Benson.\n",
      "GOAL!!! RODRI SURELY KILLS IT OFF!!! After City were awarded a free-kick for Al Dakhil bundling over Haaland, Foden's set-piece delivery causes havoc in the Burnley box as they fail to clear their lines. It sits up nicely for Rodri to hit, and he coolly smashes home to make it 3-0 to the visitors and surely end any hopes of a Clarets comeback.\n",
      "With the result surely beyond doubt, it appears Guardiola will look to shake it up by making substitutes.\n",
      "Guardiola does indeed make changes, first bringing on Gvardiol for his City debut as Lewis makes way.\n",
      "Ake is replaced by Laporte.\n",
      "Haaland will not get a hat-trick to start the season as his outing is over. Palmer is on in his place.\n",
      "Burnley lost just one home league game in 2022-23 (W16 D6), going down 2-1 against QPR in April. However, as a Premier League side they have lost five of their last eight at Turf Moor, and they look on course for another defeat here.\n",
      "Alvarez stings the palms of Trafford with a fierce drive, though the goalkeeper deals with it well.\n",
      "Rodri's strike has capped an excellent performance, pulling the strings for the Citizens with an assist and a goal while leading his team in final third entries (14) and touches (88).\n",
      "The fourth official puts up his board and indicates there will be six minutes of additional time at the end of this game.\n",
      "Berge makes way for Brownhill.\n",
      "Redmond enters the fray for Foster.\n",
      "Zaroury brings down Walker with a sliding challenge, receiving the first yellow of the contest. However, VAR is checking for a potential red card, and Zaroury may be in further trouble...\n",
      "ZAROURY IS SENT OFF!!! The replays show the substitute's right foot catches Walker high on his left leg, and a VAR review rules the tackle is worthy of a red card. Burnley are down to 10 men!\n",
      "Walker, just involved in the incident that saw Zaroury given his marching orders, makes way for McAtee.\n",
      "FULL-TIME: BURNLEY 0-3 MANCHESTER CITY\n",
      "City's Premier League title defence is off to a winning start as they claim a comfortable 3-0 triumph over newly promoted Burnley at Turf Moor. They were set on their way to victory just four minutes in, Haaland thumping home Rodri's neat assist before the prolific striker made it 2-0 before the break with a sublime curling finish. It was a long way back for the Clarets, and any hopes of an unlikely turnaround were ended 15 minutes from time when Rodri smashed into the back of the net after a free-kick caused havoc in the Burnley penalty area. Things got even worse for the hosts in the dying seconds as Zaroury initially received a yellow card for a foul on Walker, only for a VAR review to adjudge the tackle to be worthy of a sending-off as City run out easy victors.\n",
      "The first Premier League game of the season goes the way of the champions, moving them top of the league ahead of the rest of the opening round of fixtures this weekend. That is a position they will attempt not to relinquish in their bid for a sixth league title in seven seasons. For Kompany and Burnley, they will be encouraged by a decent performance, if not the result, in a fixture that will be one of the hardest they play all season.\n",
      "Thanks for joining us for live coverage of Manchester City's 3-0 Premier League victory over Burnley at Turf Moor. Goodbye! Referee: Peter Bankes. Assistants: Dan Robathan, Nick Greenhalgh. Fourth official: Gavin Ward. VAR: Michael Salisbury. Assistant VAR: Neil Davies.\n",
      "```\n",
      "\n",
      "Answer below question:\n",
      "\n",
      "```\n",
      "In what way Rodri asisted Haland's first goal in opening match for Premier League season 2023/2024?\n",
      "```\n",
      "\n"
     ]
    }
   ],
   "source": [
    "rodri_assist = gen_prompt(question)\n",
    "print(rodri_assist)"
   ]
  },
  {
   "cell_type": "code",
   "execution_count": 38,
   "metadata": {},
   "outputs": [
    {
     "name": "stdout",
     "output_type": "stream",
     "text": [
      "Rodri helped Haland score the second goal in Manchester City's 3-0 Premier League victory over Burnley at Turf Moor, by delivering a precise free-kick that Haaland slotted home.\n"
     ]
    }
   ],
   "source": [
    "ask_llama(rodri_assist)"
   ]
  },
  {
   "cell_type": "markdown",
   "metadata": {},
   "source": [
    "### Hmmm... totally wrong, smallest Llama might be too \"dumb\" for this question, but let's try again."
   ]
  },
  {
   "cell_type": "code",
   "execution_count": 39,
   "metadata": {},
   "outputs": [
    {
     "name": "stdout",
     "output_type": "stream",
     "text": [
      "Rodri assisted Haland's first goal in the opening match of the 2023-2024 Premier League season by delivering a deep cross from which Haaland scored.\n"
     ]
    }
   ],
   "source": [
    "ask_llama(rodri_assist)"
   ]
  },
  {
   "cell_type": "markdown",
   "metadata": {},
   "source": [
    "### Not exactly what we planned. Let's try bigger Llama."
   ]
  },
  {
   "cell_type": "code",
   "execution_count": 40,
   "metadata": {},
   "outputs": [
    {
     "name": "stdout",
     "output_type": "stream",
     "text": [
      "Rodri assisted Haaland's first goal with a clever headed assist, where he nodded the ball back across to Haaland, who then smashed home to put City 1-0 up.\n"
     ]
    }
   ],
   "source": [
    "ask_llama(prompt=rodri_assist, model='llama3.2:3b')"
   ]
  },
  {
   "cell_type": "markdown",
   "metadata": {},
   "source": [
    "### Good answer, but usually it returns not exactly what we planned. Let's try GPT API."
   ]
  },
  {
   "cell_type": "code",
   "execution_count": 41,
   "metadata": {},
   "outputs": [
    {
     "name": "stdout",
     "output_type": "stream",
     "text": [
      "Rodri assisted Haaland's first goal in the opening match of the Premier League season 2023/2024 by nodding the ball back across the box after meeting a deep cross from Kevin De Bruyne. Haaland was positioned in the box to finish the move, smashing the ball home to put Manchester City ahead.\n"
     ]
    }
   ],
   "source": [
    "print(ask_gpt(rodri_assist))"
   ]
  },
  {
   "cell_type": "markdown",
   "metadata": {},
   "source": [
    "### Not exactly what we planned. Let's try simple question."
   ]
  },
  {
   "cell_type": "code",
   "execution_count": 42,
   "metadata": {},
   "outputs": [],
   "source": [
    "question = \"Which two important Citizens defenders missed opening match in season 2023/2024?\""
   ]
  },
  {
   "cell_type": "code",
   "execution_count": 43,
   "metadata": {},
   "outputs": [
    {
     "name": "stdout",
     "output_type": "stream",
     "text": [
      "Given below context:\n",
      "\n",
      "```\n",
      "Bournemouth West Ham 2023-08-12 Vitality Stadium, Bournemouth nan Robert Jones Hello and welcome to live coverage of the Premier League clash between Burnley and Manchester City at Turf Moor.\n",
      "The Premier League is back for a new season, and it gets underway with an intriguing match-up between a newly promoted side and the reigning champions. Burnley could have hardly been given a tougher opening fixture, but they should come into it with confidence after cruising to the Championship title last time out in their first season back in the second tier. Led by Vincent Kompany, a Citizens' legend from his playing career, Burnley reached 101 points and secured promotion with seven games to play, and they will be hoping to get off the mark with a positive result on home soil.\n",
      "City, meanwhile, claimed a historic treble last term, finally winning their first Champions League title while also taking Premier League and FA Cup glory. It has been a transfer window of change with key players of recent years such as Riyad Mahrez and Ilkay Gundogan leaving the club, but they still come into this campaign expected to be frontrunners and they will be looking to get off to a winning start as they bid for a sixth Premier League crown in seven seasons.\n",
      "BURNLEY (4-4-2): James Trafford; Connor Roberts, Dara O'Shea, Ameen Al Dakhil, Jordan Beyer; Luca Koleosho, Sander Berge, Josh Cullen, Vitinho; Mohamed Zeki Amdouni, Lyle Foster.\n",
      "SUBS: Josh Brownhill, Jacob Bruun Larsen, Arijanet Muric, Manuel Benson, Anass Zaroury, Jack Cork, Nathan Redmond, Hjalmar Ekdal, Johann Gudmundsson.\n",
      "MANCHESTER CITY (4-2-3-1): Ederson; Kyle Walker, Manuel Akanji, Nathan Ake, Rico Lewis; Kevin De Bruyne, Rodri; Bernardo Silva, Julian Alvarez, Phil Foden; Erling Haaland.\n",
      "SUBS: Aymeric Laporte, Kalvin Phillips, Cole Palmer, James McAtee, Sergio Gomez, Stefan Ortega Moreno, Mateo Kovacic, Josko Gvardiol, Jack Grealish.\n",
      "Kompany includes six new signings as Trafford, signed from City in this window, starts between the sticks while O'Shea comes into the back four alongside Al Dakhil, who has had his loan move made permanent after impressing last season. Berge, Koleosho and Amdouni are the other fresh faces set to play from the off.\n",
      "In contrast, Pep Guardiola opts to leave his new arrivals on the bench as Gvardiol and Kovacic will be made to wait for their competitive City debuts. Key defenders John Stones and Ruben Dias both miss out through injury while Grealish is on the bench. Lewis starts and so does Alvarez, charged with supporting the prolific Haaland in attack.\n",
      "The two teams make their way onto the pitch ahead of the opening Premier League game of the season!\n",
      "Burnley kick us off, and we are underway in what promises to be another thrilling campaign!\n",
      "De Bruyne wins an early corner as City look to quiet the lively home crowd with an opening goal.\n",
      "GOAL!!! HAALAND PUTS CITY AHEAD!!! Having netted 36 Premier League goals last season, it has taken just four minutes for him to open his account for this campaign. It is a typical Haaland goal as he lurks in the box while De Bruyne lofts a deep cross for Rodri. The midfielder nods it back across, and the Norway international is waiting to smash home and put the champions 1-0 up!\n",
      "Rodri's header was clever to put it on a plate for Haaland, who finished with typical aplomb.\n",
      "Burnley fans and players scream for a penalty as Amdouni goes down under the challenge of Akanji, but the referee waves away the protests before a VAR review confirms no spot-kick will be awarded.\n",
      "It is far from the ideal start for Kompany and the Clarets, who find themselves a goal down against the defending champions. Can they respond?\n",
      "De Bruyne whips a dangerous ball into the box, and Haaland is there to meet it at the back post. It is at an awkward height, though, and the striker can only volley high over the crossbar.\n",
      "Haaland – who scored twice in City's opening Premier League game last season – scored a hat-trick in his only previous game against Burnley, a 6-0 win in last season's FA Cup quarter-final. It took him only four minutes to net here in the opening game for the Citizens for a second campaign in a row.\n",
      "Burnley work the ball nicely into the visitors' penalty area, and it eventually ends up at the feet of Koleosho. The 18-year-old tries to pick out the far corner, but he gets well underneath his effort and Ederson watches it soar over his crossbar. That was better from Kompany's side, though.\n",
      "Trafford makes a brilliant stop to deny Rodri's header after Burnley were caught out at a set-piece situation, though a delayed flag goes up for offside and the goal would not have counted anyway.\n",
      "Amdouni gives Ederson his first test of the contest, though the City goalkeeper is able to get down and save the low shot with relative ease.\n",
      "City have had 69.7 per cent of the possession so far, but Burnley are certainly showing no signs of being overawed and have exhibited some neat attacking play themselves.\n",
      "Guardiola may be forced into an early change, and it would be an especially damaging one too as De Bruyne clutches at his hamstring.\n",
      "De Bruyne does indeed limp off, and Kovacic comes on in his place for his City debut.\n",
      "Haaland has now contributed to at least one goal in his last seven Premier League away games (seven goals, one assist).\n",
      "Rodri makes a vital interception to nip the ball away from Amdouni after Lewis gave possession away in a dangerous situation. That is a huge let-off for the youngster.\n",
      "Foster cuts in on his right foot and tries to curl into the far corner, but he cannot get enough bend on his effort and it flies wide of the post. Burnley are looking lively when they come forward.\n",
      "Burnley have won just one of their last 23 league matches against Manchester City (D6 L16) and have lost the last eight in a row by an aggregate score of 26-1. They have responded well to going behind here, though.\n",
      "City are just enjoying a spell of possession as they try to slow the momentum their hosts had built up in recent minutes.\n",
      "Some brilliant interplay between Kovacic and Foden takes the latter into a dangerous position in the Burnley box, but Trafford does brilliantly to race out of his goal and snuff out the chance for a shot.\n",
      "GOAL!!! HAALAND AGAIN!!! It is a quite brilliant finish to put City 2-0 up, perhaps against the run of play, as he receives the ball in the box from Alvarez. He opts to shoot first-time, and he curls superbly into the top left corner, kissing the crossbar and going in to put his team in control at Turf Moor.\n",
      "Alvarez's lay-off was perfectly weighted for Haaland to arrow home.\n",
      "Burnley will feel hard done by to be two behind, but City have been magnificently ruthless. Two shots on target and two goals for the Citizens, who are surely on their way to three points to kick off the season.\n",
      "In all competitions, City have won 11 games in a row against Burnley, scoring 40 goals and conceding just one. They beat them 6-0 in the FA Cup last season, inflicting the Clarets' heaviest defeat since losing 6-0 to City themselves in March 1999 in a league game.\n",
      "Having responded well to City's first goal, the second does seem to have knocked the wind out of Burnley's sails and the home crowd have certainly quietened. It may be a case of getting to the break just the two goals down to regroup and go again in the second 45 minutes.\n",
      "There will be five minutes of additional time at the end of this first half.\n",
      "Burnley have won their opening game in just two of their eight previous Premier League seasons (D1 L5), winning 3-2 at reigning champions Chelsea in 2017-18 and 3-0 at home to Southampton in 2019-20.\n",
      "HALF-TIME: BURNLEY 0-2 MANCHESTER CITY\n",
      "The half-time whistle blows as City take a 2-0 lead into the break after a ruthless display in the opening period. They were ahead after just four minutes, Haaland opening his account for the season by smashing home from Rodri's clever headed assist. Burnley responded well to going 1-0 down and could have levelled through Koleosho and then Foster, but they would go two goals behind before the break as Haaland curled home superbly from Alvarez's lay-off to leave the champions very much in the ascendancy at the interval.\n",
      "Burnley are in an unfamiliar situation having been so dominant in the Championship last season, but Kompany will remain encouraged by his team's first-half performance despite the scoreline. It would take an almighty effort to recover anything from this game though, facing a side who are unbeaten in their last 44 Premier League games when leading at half-time, failing to win just three of those.\n",
      "City get us back underway for the second period.\n",
      "City have won their opening Premier League game in 12 of the last 14 seasons, with both exceptions coming against Tottenham (0-0 in 2010-11, 0-1 in 2021-22). They look on their way to another victory to kick off the season here.\n",
      "O'Shea makes an important intervention to nip in and take the ball off the toes of Haaland after Silva tried to feed the striker.\n",
      "Haaland races onto Alvarez's throughball but the pass takes him wide, and O'Shea does well to race back and block the forward's eventual shot behind for a corner.\n",
      "Rodri lets fly with a fierce effort from 30 yards out, and Trafford is forced to tip it over his crossbar for a corner. The City midfielder then gets his head on the end of the resulting set-piece, but Trafford is again equal to it and gathers down to his right.\n",
      "The Clarets will have to produce more going forward if they are to make an unlikely comeback, accumulating just 0.23 xG (expected goals) to this point.\n",
      "A sweeping City move sees them carve Burnley open again. Haaland lays the ball to his right for Alvarez, but the Argentina international's first touch takes him wide and his drive ends up flying well wide of the right post.\n",
      "Kompany looks to his bench, first introducing Bruun Larsen for his Burnley debut in place of Koleosho.\n",
      "Zaroury also comes on for Amdouni.\n",
      "What impact will those changes have on the hosts' attacking efforts?\n",
      "Burnley's last shot came all the way back in the 37th minute. For all of their impressive work, they have just lacked a little in the final third in this game.\n",
      "Rodri marauds forwards and space looks to have opened up for him to smash towards goal. He just seems hesitant to pull the trigger, though, and by the time he finally does, a Burnley defender is well-placed to block his drive.\n",
      "With 20 minutes to play, can City see the remainder of the game out for three points to kick off what they hope will be another successful defence of their Premier League crown?\n",
      "Foden tries to pick out Haaland in lots of space in the box, but he gets the cross wrong and it flies well out of his striker's reach.\n",
      "Beyer limps off for Benson.\n",
      "GOAL!!! RODRI SURELY KILLS IT OFF!!! After City were awarded a free-kick for Al Dakhil bundling over Haaland, Foden's set-piece delivery causes havoc in the Burnley box as they fail to clear their lines. It sits up nicely for Rodri to hit, and he coolly smashes home to make it 3-0 to the visitors and surely end any hopes of a Clarets comeback.\n",
      "With the result surely beyond doubt, it appears Guardiola will look to shake it up by making substitutes.\n",
      "Guardiola does indeed make changes, first bringing on Gvardiol for his City debut as Lewis makes way.\n",
      "Ake is replaced by Laporte.\n",
      "Haaland will not get a hat-trick to start the season as his outing is over. Palmer is on in his place.\n",
      "Burnley lost just one home league game in 2022-23 (W16 D6), going down 2-1 against QPR in April. However, as a Premier League side they have lost five of their last eight at Turf Moor, and they look on course for another defeat here.\n",
      "Alvarez stings the palms of Trafford with a fierce drive, though the goalkeeper deals with it well.\n",
      "Rodri's strike has capped an excellent performance, pulling the strings for the Citizens with an assist and a goal while leading his team in final third entries (14) and touches (88).\n",
      "The fourth official puts up his board and indicates there will be six minutes of additional time at the end of this game.\n",
      "Berge makes way for Brownhill.\n",
      "Redmond enters the fray for Foster.\n",
      "Zaroury brings down Walker with a sliding challenge, receiving the first yellow of the contest. However, VAR is checking for a potential red card, and Zaroury may be in further trouble...\n",
      "ZAROURY IS SENT OFF!!! The replays show the substitute's right foot catches Walker high on his left leg, and a VAR review rules the tackle is worthy of a red card. Burnley are down to 10 men!\n",
      "Walker, just involved in the incident that saw Zaroury given his marching orders, makes way for McAtee.\n",
      "FULL-TIME: BURNLEY 0-3 MANCHESTER CITY\n",
      "City's Premier League title defence is off to a winning start as they claim a comfortable 3-0 triumph over newly promoted Burnley at Turf Moor. They were set on their way to victory just four minutes in, Haaland thumping home Rodri's neat assist before the prolific striker made it 2-0 before the break with a sublime curling finish. It was a long way back for the Clarets, and any hopes of an unlikely turnaround were ended 15 minutes from time when Rodri smashed into the back of the net after a free-kick caused havoc in the Burnley penalty area. Things got even worse for the hosts in the dying seconds as Zaroury initially received a yellow card for a foul on Walker, only for a VAR review to adjudge the tackle to be worthy of a sending-off as City run out easy victors.\n",
      "The first Premier League game of the season goes the way of the champions, moving them top of the league ahead of the rest of the opening round of fixtures this weekend. That is a position they will attempt not to relinquish in their bid for a sixth league title in seven seasons. For Kompany and Burnley, they will be encouraged by a decent performance, if not the result, in a fixture that will be one of the hardest they play all season.\n",
      "Thanks for joining us for live coverage of Manchester City's 3-0 Premier League victory over Burnley at Turf Moor. Goodbye! Referee: Peter Bankes. Assistants: Dan Robathan, Nick Greenhalgh. Fourth official: Gavin Ward. VAR: Michael Salisbury. Assistant VAR: Neil Davies.\n",
      "```\n",
      "\n",
      "Answer below question:\n",
      "\n",
      "```\n",
      "Which two important Citizens defenders missed opening match in season 2023/2024?\n",
      "```\n",
      "\n"
     ]
    }
   ],
   "source": [
    "two_defenders = gen_prompt(question)\n",
    "print(two_defenders)"
   ]
  },
  {
   "cell_type": "code",
   "execution_count": 44,
   "metadata": {},
   "outputs": [
    {
     "name": "stdout",
     "output_type": "stream",
     "text": [
      "I'm not aware of the specific teams or leagues you're referring to. Can you please provide more context or information about the Citizens defenders and their matches for the upcoming season 2023/2024? I'll do my best to help.\n"
     ]
    }
   ],
   "source": [
    "ask_llama(question)"
   ]
  },
  {
   "cell_type": "markdown",
   "metadata": {},
   "source": [
    "### Smallest Llama without a context at least don't try to hallucinate this time. ++ for that"
   ]
  },
  {
   "cell_type": "code",
   "execution_count": 45,
   "metadata": {},
   "outputs": [
    {
     "name": "stdout",
     "output_type": "stream",
     "text": [
      "John Stones and Ruben Dias both missed the opening match of the season against Burnley at Turf Moor.\n"
     ]
    }
   ],
   "source": [
    "ask_llama(two_defenders)"
   ]
  },
  {
   "cell_type": "markdown",
   "metadata": {},
   "source": [
    "### With context it is correct."
   ]
  },
  {
   "cell_type": "code",
   "execution_count": 46,
   "metadata": {},
   "outputs": [
    {
     "name": "stdout",
     "output_type": "stream",
     "text": [
      "In the opening match of the 2023/2024 season, Manchester City missed two important defenders: Ruben Dias and John Stones. Both players were unavailable due to injuries.\n"
     ]
    }
   ],
   "source": [
    "print(ask_gpt(question))"
   ]
  },
  {
   "cell_type": "markdown",
   "metadata": {},
   "source": [
    "### GPT is also correct even without a context."
   ]
  },
  {
   "cell_type": "code",
   "execution_count": null,
   "metadata": {},
   "outputs": [],
   "source": []
  },
  {
   "cell_type": "code",
   "execution_count": null,
   "metadata": {},
   "outputs": [],
   "source": []
  },
  {
   "cell_type": "markdown",
   "metadata": {},
   "source": [
    "### OK, we've passed an arbitrary chosen context, but what when we don't know which context is correct? Then we need to embed every context and do a similarity check and use context that is \"closest\" to the question. We will do this excercise using Llama models and [Facebook AI Similarity Search](https://ai.meta.com/tools/faiss/) library."
   ]
  },
  {
   "cell_type": "code",
   "execution_count": 47,
   "metadata": {},
   "outputs": [],
   "source": [
    "from ollama import embed"
   ]
  },
  {
   "cell_type": "markdown",
   "metadata": {},
   "source": [
    "### Let's try sample embedding"
   ]
  },
  {
   "cell_type": "code",
   "execution_count": 48,
   "metadata": {},
   "outputs": [],
   "source": [
    "emb = embed(model='llama3.2:1b', input='Fantastic shot from De Bruyne')"
   ]
  },
  {
   "cell_type": "markdown",
   "metadata": {},
   "source": [
    "### Embedding size"
   ]
  },
  {
   "cell_type": "code",
   "execution_count": 49,
   "metadata": {},
   "outputs": [
    {
     "data": {
      "text/plain": [
       "2048"
      ]
     },
     "execution_count": 49,
     "metadata": {},
     "output_type": "execute_result"
    }
   ],
   "source": [
    "len(emb.embeddings[0])"
   ]
  },
  {
   "cell_type": "code",
   "execution_count": 50,
   "metadata": {},
   "outputs": [],
   "source": [
    "import faiss"
   ]
  },
  {
   "cell_type": "markdown",
   "metadata": {},
   "source": [
    "### Embedding size must be used to create FAISS index"
   ]
  },
  {
   "cell_type": "code",
   "execution_count": 51,
   "metadata": {},
   "outputs": [],
   "source": [
    "faiss_idx = faiss.IndexFlatL2(len(emb.embeddings[0]))"
   ]
  },
  {
   "cell_type": "markdown",
   "metadata": {},
   "source": [
    "### Let's embed all our commentary texts"
   ]
  },
  {
   "cell_type": "code",
   "execution_count": 52,
   "metadata": {},
   "outputs": [],
   "source": [
    "def apply_faiss_embeddings(text):\n",
    "    text = text.replace('\\n', ' ')\n",
    "    embedding = embed(\n",
    "        model='llama3.2:1b',\n",
    "        input=text,\n",
    "        options={\"num_ctx\": 8096}\n",
    "    )\n",
    "    return embedding.embeddings[0]"
   ]
  },
  {
   "cell_type": "code",
   "execution_count": 124,
   "metadata": {},
   "outputs": [],
   "source": [
    "match_df['embeddings'] = match_df['text'].apply(apply_faiss_embeddings)"
   ]
  },
  {
   "cell_type": "markdown",
   "metadata": {},
   "source": [
    "### Uffff... it took 900 minutes on my laptop, so let's better persist this."
   ]
  },
  {
   "cell_type": "code",
   "execution_count": null,
   "metadata": {},
   "outputs": [],
   "source": [
    "match_df.to_csv('match_with_embeddings.csv')"
   ]
  },
  {
   "cell_type": "markdown",
   "metadata": {},
   "source": [
    "### Important note: here I faced an issue with embeddings enclosed with doulbe quotes in persisted csv file, which cause a issues when converting to numpy array later (list was treated as string). To prevent this there is a pd.eval added while loading a file - see: https://stackoverflow.com/a/23112008/13182755."
   ]
  },
  {
   "cell_type": "code",
   "execution_count": 53,
   "metadata": {},
   "outputs": [
    {
     "data": {
      "text/html": [
       "<div>\n",
       "<style scoped>\n",
       "    .dataframe tbody tr th:only-of-type {\n",
       "        vertical-align: middle;\n",
       "    }\n",
       "\n",
       "    .dataframe tbody tr th {\n",
       "        vertical-align: top;\n",
       "    }\n",
       "\n",
       "    .dataframe thead th {\n",
       "        text-align: right;\n",
       "    }\n",
       "</style>\n",
       "<table border=\"1\" class=\"dataframe\">\n",
       "  <thead>\n",
       "    <tr style=\"text-align: right;\">\n",
       "      <th></th>\n",
       "      <th>id</th>\n",
       "      <th>text</th>\n",
       "      <th>embeddings</th>\n",
       "    </tr>\n",
       "  </thead>\n",
       "  <tbody>\n",
       "    <tr>\n",
       "      <th>0</th>\n",
       "      <td>93323</td>\n",
       "      <td>Bournemouth West Ham 2023-08-12 Vitality Stadi...</td>\n",
       "      <td>[0.00982937, -0.015813109, 0.013958775, 0.0210...</td>\n",
       "    </tr>\n",
       "    <tr>\n",
       "      <th>1</th>\n",
       "      <td>93336</td>\n",
       "      <td>Man City Newcastle 2023-08-19 Etihad Stadium, ...</td>\n",
       "      <td>[0.013961506, -0.010563543, 0.015210669, 0.013...</td>\n",
       "    </tr>\n",
       "    <tr>\n",
       "      <th>2</th>\n",
       "      <td>93343</td>\n",
       "      <td>Brentford Crystal Palace 2023-08-26 Gtech Comm...</td>\n",
       "      <td>[-0.008094572, 0.024903629, 0.013604184, -0.00...</td>\n",
       "    </tr>\n",
       "    <tr>\n",
       "      <th>3</th>\n",
       "      <td>93344</td>\n",
       "      <td>Brighton West Ham 2023-08-26 American Express ...</td>\n",
       "      <td>[0.021451954, -0.012039059, 0.014355913, 0.019...</td>\n",
       "    </tr>\n",
       "    <tr>\n",
       "      <th>4</th>\n",
       "      <td>93347</td>\n",
       "      <td>Everton Wolves 2023-08-26 Goodison Park, Liver...</td>\n",
       "      <td>[-0.010019751, 0.02847876, 0.012722477, -0.007...</td>\n",
       "    </tr>\n",
       "  </tbody>\n",
       "</table>\n",
       "</div>"
      ],
      "text/plain": [
       "      id                                               text  \\\n",
       "0  93323  Bournemouth West Ham 2023-08-12 Vitality Stadi...   \n",
       "1  93336  Man City Newcastle 2023-08-19 Etihad Stadium, ...   \n",
       "2  93343  Brentford Crystal Palace 2023-08-26 Gtech Comm...   \n",
       "3  93344  Brighton West Ham 2023-08-26 American Express ...   \n",
       "4  93347  Everton Wolves 2023-08-26 Goodison Park, Liver...   \n",
       "\n",
       "                                          embeddings  \n",
       "0  [0.00982937, -0.015813109, 0.013958775, 0.0210...  \n",
       "1  [0.013961506, -0.010563543, 0.015210669, 0.013...  \n",
       "2  [-0.008094572, 0.024903629, 0.013604184, -0.00...  \n",
       "3  [0.021451954, -0.012039059, 0.014355913, 0.019...  \n",
       "4  [-0.010019751, 0.02847876, 0.012722477, -0.007...  "
      ]
     },
     "execution_count": 53,
     "metadata": {},
     "output_type": "execute_result"
    }
   ],
   "source": [
    "match_df = pd.read_csv('match_with_embeddings.csv', converters={'embeddings': pd.eval})\n",
    "match_df.head()"
   ]
  },
  {
   "cell_type": "code",
   "execution_count": 54,
   "metadata": {},
   "outputs": [
    {
     "data": {
      "text/plain": [
       "0    [0.00982937, -0.015813109, 0.013958775, 0.0210...\n",
       "1    [0.013961506, -0.010563543, 0.015210669, 0.013...\n",
       "2    [-0.008094572, 0.024903629, 0.013604184, -0.00...\n",
       "3    [0.021451954, -0.012039059, 0.014355913, 0.019...\n",
       "4    [-0.010019751, 0.02847876, 0.012722477, -0.007...\n",
       "Name: embeddings, dtype: object"
      ]
     },
     "execution_count": 54,
     "metadata": {},
     "output_type": "execute_result"
    }
   ],
   "source": [
    "match_df['embeddings'].head()"
   ]
  },
  {
   "cell_type": "markdown",
   "metadata": {},
   "source": [
    "### Wouldn't it be cool if you coould add embedding to and index just like below?"
   ]
  },
  {
   "cell_type": "code",
   "execution_count": 55,
   "metadata": {},
   "outputs": [
    {
     "ename": "ValueError",
     "evalue": "not enough values to unpack (expected 2, got 1)",
     "output_type": "error",
     "traceback": [
      "\u001b[0;31m---------------------------------------------------------------------------\u001b[0m",
      "\u001b[0;31mValueError\u001b[0m                                Traceback (most recent call last)",
      "Cell \u001b[0;32mIn[55], line 1\u001b[0m\n\u001b[0;32m----> 1\u001b[0m \u001b[43mfaiss_idx\u001b[49m\u001b[38;5;241;43m.\u001b[39;49m\u001b[43madd\u001b[49m\u001b[43m(\u001b[49m\u001b[43mmatch_df\u001b[49m\u001b[43m[\u001b[49m\u001b[38;5;124;43m'\u001b[39;49m\u001b[38;5;124;43membeddings\u001b[39;49m\u001b[38;5;124;43m'\u001b[39;49m\u001b[43m]\u001b[49m\u001b[43m)\u001b[49m\n",
      "File \u001b[0;32m~/miniconda3/envs/my-rag/lib/python3.12/site-packages/faiss/class_wrappers.py:227\u001b[0m, in \u001b[0;36mhandle_Index.<locals>.replacement_add\u001b[0;34m(self, x)\u001b[0m\n\u001b[1;32m    214\u001b[0m \u001b[38;5;28;01mdef\u001b[39;00m \u001b[38;5;21mreplacement_add\u001b[39m(\u001b[38;5;28mself\u001b[39m, x):\n\u001b[1;32m    215\u001b[0m \u001b[38;5;250m    \u001b[39m\u001b[38;5;124;03m\"\"\"Adds vectors to the index.\u001b[39;00m\n\u001b[1;32m    216\u001b[0m \u001b[38;5;124;03m    The index must be trained before vectors can be added to it.\u001b[39;00m\n\u001b[1;32m    217\u001b[0m \u001b[38;5;124;03m    The vectors are implicitly numbered in sequence. When `n` vectors are\u001b[39;00m\n\u001b[0;32m   (...)\u001b[0m\n\u001b[1;32m    224\u001b[0m \u001b[38;5;124;03m        `dtype` must be float32.\u001b[39;00m\n\u001b[1;32m    225\u001b[0m \u001b[38;5;124;03m    \"\"\"\u001b[39;00m\n\u001b[0;32m--> 227\u001b[0m     n, d \u001b[38;5;241m=\u001b[39m x\u001b[38;5;241m.\u001b[39mshape\n\u001b[1;32m    228\u001b[0m     \u001b[38;5;28;01massert\u001b[39;00m d \u001b[38;5;241m==\u001b[39m \u001b[38;5;28mself\u001b[39m\u001b[38;5;241m.\u001b[39md\n\u001b[1;32m    229\u001b[0m     x \u001b[38;5;241m=\u001b[39m np\u001b[38;5;241m.\u001b[39mascontiguousarray(x, dtype\u001b[38;5;241m=\u001b[39m\u001b[38;5;124m'\u001b[39m\u001b[38;5;124mfloat32\u001b[39m\u001b[38;5;124m'\u001b[39m)\n",
      "\u001b[0;31mValueError\u001b[0m: not enough values to unpack (expected 2, got 1)"
     ]
    }
   ],
   "source": [
    "faiss_idx.add(match_df['embeddings'])"
   ]
  },
  {
   "cell_type": "markdown",
   "metadata": {},
   "source": [
    "### We need to pass embeddings to index in an NxD matrix, where N is number of embedded entries and D is the embedding size."
   ]
  },
  {
   "cell_type": "code",
   "execution_count": 57,
   "metadata": {},
   "outputs": [],
   "source": [
    "import numpy as np"
   ]
  },
  {
   "cell_type": "code",
   "execution_count": 58,
   "metadata": {},
   "outputs": [
    {
     "data": {
      "text/plain": [
       "(303, 2048)"
      ]
     },
     "execution_count": 58,
     "metadata": {},
     "output_type": "execute_result"
    }
   ],
   "source": [
    "emb_vectors = np.array(match_df['embeddings'].tolist())\n",
    "emb_vectors.shape"
   ]
  },
  {
   "cell_type": "code",
   "execution_count": 59,
   "metadata": {},
   "outputs": [],
   "source": [
    "faiss_idx.add(emb_vectors)"
   ]
  },
  {
   "cell_type": "markdown",
   "metadata": {},
   "source": [
    "### Let's now embed a question"
   ]
  },
  {
   "cell_type": "code",
   "execution_count": 60,
   "metadata": {},
   "outputs": [],
   "source": [
    "question = 'In which premier league match Zaroury was sent off after a foul on Walker?'"
   ]
  },
  {
   "cell_type": "code",
   "execution_count": 61,
   "metadata": {},
   "outputs": [
    {
     "name": "stdout",
     "output_type": "stream",
     "text": [
      "2048\n",
      "[-0.0028298623, 0.054887388, 0.001383555, -0.0043045585, 0.04309273]\n"
     ]
    }
   ],
   "source": [
    "query_emb = apply_faiss_embeddings(question)\n",
    "print(len(query_emb))\n",
    "print(query_emb[:5])"
   ]
  },
  {
   "cell_type": "code",
   "execution_count": 62,
   "metadata": {},
   "outputs": [
    {
     "data": {
      "text/plain": [
       "(1, 2048)"
      ]
     },
     "execution_count": 62,
     "metadata": {},
     "output_type": "execute_result"
    }
   ],
   "source": [
    "query_emb_array = np.array(query_emb).reshape(1, -1)\n",
    "query_emb_array.shape"
   ]
  },
  {
   "cell_type": "markdown",
   "metadata": {},
   "source": [
    "### And find 10 \"closest\" match commentaries."
   ]
  },
  {
   "cell_type": "code",
   "execution_count": 63,
   "metadata": {},
   "outputs": [
    {
     "name": "stdout",
     "output_type": "stream",
     "text": [
      "[[0.6306199  0.641779   0.64206946 0.6510188  0.65511256 0.66085064\n",
      "  0.6622771  0.6720246  0.6773503  0.6774502 ]]\n",
      "[[289 258 168 254 112  72 116 118 218 150]]\n"
     ]
    }
   ],
   "source": [
    "distances, indices = faiss_idx.search(query_emb_array, k=10)\n",
    "print(distances)\n",
    "print(indices)"
   ]
  },
  {
   "cell_type": "code",
   "execution_count": 64,
   "metadata": {},
   "outputs": [
    {
     "data": {
      "text/plain": [
       "'Brighton Arsenal 2024-04-06 American Express Stadium, Falmer 31677.0 John Brooks Hello and welcome to live coverage of Newcastle United v Everton.\\nNewcastle are on a four-match unbeaten run and looking to build on their late season momentum, having come from 3-1 down to beat West Ham 4-3 at the weekend. The hosts are in eighth place on 43 points, trailing fifth-placed Aston Villa by 13 points for a Europa League spot. They’ve only lost three times at home this season, while their record against Everton will give them further confidence: the Magpies have won five of their last seven meetings. A win today would see them leapfrog West Ham into sixth place.\\nEverton are desperate to bring a halt to a grim run of results, and will likely take inspiration from the fact that their only win in eight midweek Premier League matches was a 3-0 victory over Newcastle in the reverse fixture. The Toffees sit 16th in the Premier League, just three points above the drop zone, and are winless in their last 12 Premier League games – their longest league run without a victory since 1957 – including their last seven on the road. A win today would see them complete the league double over the Magpies for the first time since 2017-18, and take them above Brentford into 15th.\\nNEWCASTLE UNITED (4-3-3): Martin Dubravka; Emil Krafth, Fabian Schar, Dan Burn, Lewis Hall; Sean Longstaff, Bruno Guimaraes; Elliot Anderson, Jacob Murphy, Alexander Isak, Harvey Barnes.\\nNEWCASTLE UNITED SUBS: Paul Dummett, Matt Ritchie, Lorius Karius, Joe Willock, Mark Gillespie, Joe White, Amadou Diallo, Alex Murphy, Ben Parkinson.\\nEVERTON (4-4-1-1): Jordan Pickford; Ben Godfrey, James Tarkowski, Jarrad Branthwaite, Vitalii Mykolenko; Ashley Young, Idrissa Gueye, Amadou Onana, Dwight McNeil; Abdoulaye Doucoure; Beto.\\nEVERTON SUBS: Nathan Patterson, Michael Keane, Dominic Calvert-Lewin, Jack Harrison, Joao Virginia, Andre Gomes, Seamus Coleman, Youssef Chermiti, James Garner.\\nSubstitute Harvey Barnes’ brace at the weekend is rewarded with a start for Newcastle tonight, while Emil Krafth, Lewis Hall and Elliot Anderson also come into the starting XI. Anthony Gordon won’t be able to face his former club as he serves a one-match ban. In another blow to the Magpies’ injury-stricken season, captain Jamaal Lascelles tore his ACL in that same match and will be out for up to nine months, while Miguel Almiron and Tino Livramento, also injured on Saturday, miss out on the squad too.\\nEverton boss Sean Dyche makes four changes from their midweek loss to Bournemouth, as Beto, Ashley Young, Vitalii Mykolenko – who has recovered from an illness - and Idrissa Gueye come in for Seamus Coleman, James Garner, Jack Harrison and Dominic Calvert-Lewin. Forwards Arnaut Danjuma and Lewis Dobbin are again set to miss out due to injuries.\\nThe teams are out on the pitch and we’re about to get underway!\\nKICK-OFF: NEWCASTLE UNITED V EVERTON. Everton get us going - to an immediate chorus of boos from St James\\' Park.\\nEverton already under pressure! Newcastle with an early press up the pitch, but Barnes - replacing the suspended Gordon - can\\'t quite get a touch on it. Isak then tries to tee up Barnes again but Pickford gets the block.\\nBranthwaite makes an interception at the back and Everton break. Young chips the ball over the Magpies defence but there\\'s no one in the box to take advantage. Newcastle are enjoying most of the possession at the moment.\\nBarnes and Anderson link up well in the box but Everton - tripping up Barnes in the process - get it under control and break. A long ball from Pickford falls to Doucoure but his first strike from the edge of the box soars over the bar!\\nEvery touch by an Everton player is greeted with deafening boos from the fortress that is St James\\' Park. Krafth just clips Beto before he can get the ball. Free-kick to Everton about 20 yards out...\\nHuge missed chance for Everton! McNeil\\'s free-kick falls to Tarkowski, who nods it over the top from five yards out! That was a great chance squandered by the visitors...\\nEverton on the break! McNeil makes an excellent run through acres of space, Godfrey delivers it to Young in the box, but Newcastle defend it well. No corner for the visitors.\\nKrafth crosses to Isak in the box but Branthwaite is there to make the clearance. It goes out for a Newcastle corner - Hall swings it in to Guimaraes, who takes a touch, but it\\'s too far over and Everton clear it safely.\\nThis has been fairly even so far, with both sides fancying their chances on the break but yet to find a way through. Murphy sends a brilliant cross in Barnes\\' direction a few yards off the far post, but Godfrey wins their aerial duel and it\\'s out for a Newcastle corner.\\nPickford\\'s long ball was expertly taken apart by Newcastle and Barnes already has an assist to his name, his through-ball soaring past the Everton defence and finding Isak.\\nGOOOAAAALLLL! Newcastle are 1-0 ahead and it\\'s Alexander Isak once again, his 19th this season! The through-ball soars over Tarkowski and Isak weaves his way expertly past Branthwaite to slot it in the bottom corner, way out of Pickford\\'s reach. The Toon goes wild!\\nNewcastle pressing again, Hall ducking and diving through the defence but Onana clears it. Beto goes sprawling on the turf after a challenge by Burn.\\nAll Newcastle now! Onana slides in on Anderson driving down the left, and the Newcastle man goes down and wins a free-kick.\\nThere\\'s a brief pause in play for the players to break their Ramadan fast.\\nEverton have been a lot more subdued since going behind. The hosts are controlling the game, with 66% of the possession, and looking much more dangerous.\\nAnderson and Guimaraes get in each other\\'s way a little in midfield. Anderson tries to get into space and wins a free kick after getting shoved over, near the Newcastle box.\\nAnderson drives down the centre and squares it to Barnes, but there\\'s a sea of blue shirts in the box to block and after a bit of pinball Everton head it clear.\\nMassive chance for Murphy! Everton are camped out in their box and Murphy takes his chance to sprint through and have a shot from range - but it fizzes over the bar! Newcastle have had six attempts now to Everton\\'s two and are bringing all the intensity.\\nNow Beto has a go for the visitors! He gets into a good position but his shot from the edge of the box is miles off target. Sean Dyche does not look impressed.\\nGuimaraes and Gueye get in an elaborate tangle and the Brazilian hauls him over, giving away a free kick in the centre. Nothing comes of it and Barnes attempts to break, but Everton regain possession - Beto tries to cut it back, possibly for Doucoure, but his accuracy is way off again and Newcastle recover it easily.\\nIsak\\'s attempt to pass to Barnes down the left, frustrated by the Everton midfield, is greeted with appreciation by the crowd. Their star man has now scored in each of his last five Premier League home games, the first player to do so since Yoan Gouffran in 2013.\\nEverton once again are asleep at the back as Isak and Anderson again combine dangerously in the box, but Godfrey makes a great clearance to save their blushes. The resulting corner is flicked over by Burn for an Everton goal-kick.\\nBarnes makes another electric run down the left but Tarkowski arrests it and concedes a throw-in. In another worrying sight for Eddie Howe, Hall is down on the pitch, holding onto his ribs. Medical staff are on the pitch - is this yet another injury setback for the Magpies?\\nPlay resumes. Guimaraes and Anderson wrestle with Everton over a corner and the latter goes down courtesy of Doucoure. Everton have possession now, but McNeil\\'s ball goes nowhere.\\nBeto gets a talking to for a lunge on Krafth. Still no yellow cards in this game despite some feisty challenges. Hall is back up and appears to be moving well.\\nChance for Everton! Doucoure finds some space in the box and has a good attempt, but Dubravka jumps and gets his gloves to it. That\\'s the most positive Everton have looked all game!\\nHuge stop by Pickford! After a calmer period of Newcastle possession the ball falls to Barnes at the far left - he gets it around Pickford, who\\'s off his line, but no one can get a decent touch on it. Murphy then has a go himself and the Everton goalkeeper sticks out a leg to keep it out!\\nFour added minutes here at St James\\' Park.\\nHuge chance for Newcastle and Isak almost has a second! He glides through the defence and has a glorious chance to put the hosts 2-0 up, but it floats just over the bar.\\nMurphy swings in a cross and Pickford does well to collect just a couple of yards out from goal!\\nHALF-TIME: NEWCASTLE UNITED 1-0 EVERTON.\\nNewcastle are 1-0 up at the break! Both sides have had chances, but the hosts - roared on by the crowd - have looked much the brighter, led by star player Isak, who showed his worth with a brilliant strike in the opening 15 minutes. The Magpies have controlled the game well, with 62 per cent of possession compared to Everton\\'s 38, and an xG of 1.37 to the Toffees\\' 0.47.\\nEverton need to turn this around quickly, and while they\\'ve threatened on the break, Newcastle haven\\'t looked too troubled by their efforts so far. Worryingly for the visitors, they haven\\'t won any of their last 25 Premier League games when trailing at half-time. They also failed to have a shot on target in that entire half - let\\'s see if Dyche\\'s half-time pep talk has any effect...\\nKICK-OFF: NEWCASTLE UNITED 1-0 EVERTON. Second half underway!\\nNo changes at the break. Everton nick possession early on and Young hoofs a cross in towards Beto, but it doesn\\'t quite find the target. A minute later Beto goes down in the box thanks to a shirt-pull by Schar but the ref is stone-faced to his appeals.\\nAlmost a very embarrassing moment for Everton! Newcastle have a corner and the box is rammed. Tarkowski tries to clear but kicks it backwards onto his own post! It bounces away but wow, that could have been a disastrous start to this half!\\nBranthwaite chucks a long ball in the vague direction of Doucoure, approaching a near-empty Newcastle box, but Everton don\\'t have the pace at the moment to make anything of it.\\nGuimaraes opts to leave a ball in his own penalty area and Beto launches towards it, sliding it on an approaching Dubravka. The keeper gets to it without much hassle but seems to clip his gloves on the Everton man in the process. Further up the pitch, Burn shoves McNeil over and concedes a free-kick.\\nPickford takes the free-kick and sends it flying down towards the Newcastle box but the danger is cleared easily. Everton have a corner...\\nMcNeil chips in the corner but it\\'s rather flat and is cleared away. Everton have come out more strongly in this half, offering more in the opposition box. Tarkowski fires in a long ball but Onana, surrounded by Newcastle defenders, can\\'t get his head to it and it sails behind.\\nNewcastle take a free kick, Isak squares the pass cutely to Dan Burn and the 6\\'7\" centre-back fires it home! But wait... It\\'s gone to VAR... They\\'re checking for an offside on Isak.\\nDecision made: Burn\\'s goal is chalked off. Isak was leaning just a fraction too far forward beyond the Everton defence.\\nDyche decides now is the time to make some changes. Doucoure is replaced by Gomes.\\nOnana comes off for James Garner.\\nAnd a final change for Everton: the misfiring Beto is replaced by Dominic Calvert-Lewin. The latter hasn\\'t scored in 23 games: can he break that streak here and get his side back in it?\\nEverton enjoy a spell of possession but Newcastle break! Pickford comes out to see to a long ball.\\nCalvert-Lewin jumps for a cross but Dubravka gets there first and catches!\\nAlmost an equaliser for Everton! Garner - who has come on full of energy - spins on the ball and fires a brilliant first-time shot, but it bounces off the inside of the post! Huge, huge chance for Everton.\\nChance after chance for Newcastle! It\\'s absolute madness in the Everton box, Pickford is nowhere to be seen but Everton defend with their lives and Mykolenko clears Isak\\'s shot just off the line - how is this still 1-0?! Barnes now fires another shot clear over the bar from a Krafth cross!\\nEnd-to-end stuff at the moment, Everton really energised by their substitutions. Mykolenko attempts to pass to McNeil in the box but Krafth knocks it out for an corner. It\\'s floated to the back post, out to a central position where Young is waiting - but his fierce attempt is blocked by a defender.\\nEddie Howe decides now is the time to make a change. Anderson is replaced by Joe Willock.\\nSchar slides in on Mykolenko to stop him advancing on goal. Everton are really ramping up the pressure now, Newcastle know their lead is slim and they can\\'t sit this one out.\\nLongstaff does well to rob Garner of the ball and set up Willock on the break. Isak dances through the defence and passes to Barnes, but his effort is well saved by Pickford.\\nGodfrey knocks the ball behind and Newcastle have a corner. It\\'s getting a bit feisty - Burn and Branthwaite are pushing and shoving each other in the box. Murphy\\'s ball in is booted clear by Gomes.\\nCalvert-Lewin sprints forward in acres of space but with no-one to pass to in the box, he takes too much time and Burn gets to him and takes out the danger. Dummett looks to be readying himself - Hall is down on the turf again so may be about to be replaced.\\nHall is indeed coming off, replaced by Paul Dummett, making a rare appearance.\\nInto the last 11 minutes. In the reverse fixture Everton scored three goals in that time - is this game going to have an equally dramatic end?\\nThe first yellow of the game goes to Tarkowski for stepping on the back of Murphy\\'s heel.\\nAnother change for Everton: Portuguese youngster Youssef Chermiti replaces Gueye.\\nChermiti\\'s first action of the game is to trip up Krafth. Murphy is limping around, testing his heel - that looked like it hurt. Burn makes an excellent challenge to halt Chermiti\\'s run on goal in its tracks.\\nGuimaraes boots a shot way over the bar. Late drama: VAR are checking for a possible penalty for Everton down the other end... Dummett hauled down Young by the neck in the box with the ball nowhere in sight. Could the visitors get a lifeline here?\\nTony Harrington is being called to the screen...\\nPENALTY GIVEN! Everton DO get a lifeline! The ball is going nowhere near Young and Dummett, with his arm round his neck, hauls him down regardless. Calvert-Lewin to take - can he end his goal drought here and revitalise his season?\\nGOOOOAAAALLLL! Calvert-Lewin scores a penalty to make it 1-1! His powerful spot-kick clatters off Dubvraka\\'s hand and into the back of the net - it\\'s a huge, huge moment for Everton, is the comeback? Huge for Calvert-Lewin as well, his first goal in 23 games.\\nAnother change from Everton, looking to capitalise on that equaliser. Godfrey is replaced by Seamus Coleman.\\nThere will be NINE MINUTES of added time. Newcastle pushing...\\nSchar takes down Calvert-Lewin near the sideline, who goes flying straight into the Toffees manager. Seconds later Everton have a corner.\\nTarkowski and Calvert-Lewin were both well-positioned to receive that but the whistle blew for some argy-bargy in the box.\\nLongstaff and Isak both in the Everton box trying to get a decent touch but Garner is there to marshal the defence. Both sides are pushing for a winner here with the St James\\' crowd roaring their players on. It deflects out for a Newcastle corner...\\nMurphy takes but the whistle blows - possibly before the corner was taken - as Burn shoves over Branthwaite. It\\'s getting scrappy in the box and Tarkowski is remonstrating with the ref, annoyed at having to set up again.\\nMurphy takes it again, Burn and Branthwaite are - again - grappling in the box, but it\\'s cleared out. Someone looked to have gone down in the box but the ref isn\\'t interested.\\nChermiti receives a yellow for a challenge on Schar.\\nGuimaraes takes the free kick and floats it towards Burn; Chermiti wins it back, Guimaraes is there once again and McNeil sees yellow for taking him down.\\nGuimaraes takes the free-kick, Branthwaite knocks it clear, and after a bit of pinball it comes into the hands of Pickford.\\nAnd that\\'s the last action of the game!\\nFULL-TIME: NEWCASTLE UNITED 1-1 EVERTON.\\nWhat a breathless end to that half! It ends 1-1, but Newcastle will be ruing that as a missed opportunity when they should have put the game to bed in a dominant first half. A glorious solo strike by Isak put the hosts in front after just 15 minutes, and he should have had a second shortly before the half-time whistle. But Everton, who had been flat since going behind, regrouped at the break and some inspired substitutions made the second half altogether more competitive. This was a game largely decided by two substitutes: Dummett, making a rare appearance for Newcastle, hacked down Young in the box and conceded a penalty, and Everton sub Calvert-Lewin - who has scored more goals against Newcastle, six, than any other side - levelled from the spot with his first goal since October. Newcastle had 60 per cent possession and an xG of 1.42 compared to the Toffees\\' 0.44, but couldn\\'t capitalise, and Everton come away with a crucial point in their battle to avoid the drop. Thanks for reading! How the match unfolded\\nArsenal went back to the top of the Premier League table with a 3-0 victory over Brighton at the Amex Stadium.\\nBukayo Saka’s penalty and Kai Havertz’s close-range finish put the Gunners, who had seen Manchester City join Liverpool at the top of the standings with a 4-2 victory over Crystal Palace earlier on Saturday, in control on the south coast.\\nAn emphatic victory was secured when, on his first return to the Amex, former Brighton favourite Leandro Trossard dinked home late on.\\nWhile Arsenal will hope Manchester United do them a favour by beating Liverpool at Old Trafford on Sunday, Brighton are now in 10th, with their hopes of European qualification hanging by a thread.\\nArsenal made a quick start and should have gone ahead inside 63 seconds, only for Gabriel Magalhaes to head wide of a gaping goal after being found by Martin Odegaard\\'s free-kick.\\nSaka shot wide of the far corner and Gabriel Jesus was denied by a firm stop from Bart Verbruggen as Arsenal continued to probe, and the Gunners made the breakthrough shortly after the half-hour mark.\\nLamptey clumsily felled Jesus as the Brazilian bustled into the penalty area, and John Brooks did not hesitate in pointing to the spot. Saka made no mistake from 12 yards, firing into the bottom-left corner for his 14th league goal of the season.\\nJulio Enciso went close to levelling in spectacular fashion shortly before half-time, but David Raya was able to claw his dipping strike away from the top-left corner.\\nArsenal made Raya’s good work count in the 62nd minute – Jorginho getting to the byline and squaring for Havertz, who duly tucked in.\\nHaving replaced Saka, Trossard tried his luck from distance soon after, but Bart Verbruggen was equal to the Belgium international’s low strike.\\nBrighton’s goalkeeper could do little to prevent Trossard from making it 3-0 in the 86th minute, though, with the winger keeping his cool in a one-v-one and lifting home a delicate finish to further compound his old club’s misery.\\nVerbruggen stopped Declan Rice and then Gabriel from making it a rout, as Mikel Arteta’s team continued their exceptional form.\\nSaka on the spot\\nSaka has now scored as many Premier League goals this season (14 in 29 matches) as he did in 2022-23 (14 in 38 encounters).\\nHis successfully converted penalty here means he has now scored nine of his last 10 spot-kicks in the Premier League, including his last five in a row.\\nWith Euros 2024 on the horizon, it is indeed timely to brush up on goalscoring output – especially from the spot. \\nBrighton bereft as fine home record falls\\nDisappointingly for Brighton, this defeat at the hands of Arsenal ends a fine run of form on home turf.\\nBefore this, the last defeat at the Amex came 3-1 to West Ham United in August. The clipping of the Seagulls’ wings now means that a 12-game unbeaten run, their longest unbeaten run at the Amex in the Premier League, draws to a close (W6 D6).'"
      ]
     },
     "execution_count": 64,
     "metadata": {},
     "output_type": "execute_result"
    }
   ],
   "source": [
    "match_df.iloc[indices[0][0]].text"
   ]
  },
  {
   "cell_type": "markdown",
   "metadata": {},
   "source": [
    "### Not good, the \"closest\" should be index equals to 0, because the question refers to the first match. Let's try if model dedicated for embeddings will perform better here."
   ]
  },
  {
   "cell_type": "code",
   "execution_count": 65,
   "metadata": {},
   "outputs": [
    {
     "name": "stdout",
     "output_type": "stream",
     "text": [
      "\u001b[?25lpulling manifest ⠙ \u001b[?25h\u001b[?25l\u001b[2K\u001b[1Gpulling manifest ⠙ \u001b[?25h\u001b[?25l\u001b[2K\u001b[1Gpulling manifest ⠹ \u001b[?25h\u001b[?25l\u001b[2K\u001b[1Gpulling manifest ⠸ \u001b[?25h\u001b[?25l\u001b[2K\u001b[1Gpulling manifest ⠴ \u001b[?25h\u001b[?25l\u001b[2K\u001b[1Gpulling manifest ⠦ \u001b[?25h\u001b[?25l\u001b[2K\u001b[1Gpulling manifest ⠧ \u001b[?25h\u001b[?25l\u001b[2K\u001b[1Gpulling manifest \n",
      "pulling 970aa74c0a90... 100% ▕████████████████▏ 274 MB                         \n",
      "pulling c71d239df917... 100% ▕████████████████▏  11 KB                         \n",
      "pulling ce4a164fc046... 100% ▕████████████████▏   17 B                         \n",
      "pulling 31df23ea7daa... 100% ▕████████████████▏  420 B                         \n",
      "verifying sha256 digest \n",
      "writing manifest \n",
      "success \u001b[?25h\n"
     ]
    }
   ],
   "source": [
    "!docker exec ollama_0_4_7 ollama pull nomic-embed-text:v1.5"
   ]
  },
  {
   "cell_type": "code",
   "execution_count": 66,
   "metadata": {},
   "outputs": [],
   "source": [
    "from ollama import embeddings\n",
    "import ollama"
   ]
  },
  {
   "cell_type": "code",
   "execution_count": 68,
   "metadata": {},
   "outputs": [],
   "source": [
    "def apply_faiss_embeddings(text):\n",
    "    text = text.replace('\\n', ' ')\n",
    "    embedding = embeddings(\n",
    "        model='nomic-embed-text:v1.5',\n",
    "        prompt=text,\n",
    "        options={\"num_ctx\": 8096}\n",
    "    )\n",
    "    return embedding.embedding"
   ]
  },
  {
   "cell_type": "markdown",
   "metadata": {},
   "source": [
    "### This time around 200 minutes ..."
   ]
  },
  {
   "cell_type": "code",
   "execution_count": null,
   "metadata": {},
   "outputs": [],
   "source": [
    "match_df['nomic_embd'] = match_df['text'].apply(apply_faiss_embeddings)"
   ]
  },
  {
   "cell_type": "code",
   "execution_count": null,
   "metadata": {},
   "outputs": [],
   "source": [
    "match_df.to_csv('match_with_nomic_emb.csv')"
   ]
  },
  {
   "cell_type": "code",
   "execution_count": 69,
   "metadata": {},
   "outputs": [
    {
     "data": {
      "text/html": [
       "<div>\n",
       "<style scoped>\n",
       "    .dataframe tbody tr th:only-of-type {\n",
       "        vertical-align: middle;\n",
       "    }\n",
       "\n",
       "    .dataframe tbody tr th {\n",
       "        vertical-align: top;\n",
       "    }\n",
       "\n",
       "    .dataframe thead th {\n",
       "        text-align: right;\n",
       "    }\n",
       "</style>\n",
       "<table border=\"1\" class=\"dataframe\">\n",
       "  <thead>\n",
       "    <tr style=\"text-align: right;\">\n",
       "      <th></th>\n",
       "      <th>text</th>\n",
       "      <th>embeddings</th>\n",
       "      <th>nomic_embd</th>\n",
       "    </tr>\n",
       "    <tr>\n",
       "      <th>id</th>\n",
       "      <th></th>\n",
       "      <th></th>\n",
       "      <th></th>\n",
       "    </tr>\n",
       "  </thead>\n",
       "  <tbody>\n",
       "    <tr>\n",
       "      <th>93323</th>\n",
       "      <td>Bournemouth West Ham 2023-08-12 Vitality Stadi...</td>\n",
       "      <td>[0.00982937, -0.015813109, 0.013958775, 0.0210...</td>\n",
       "      <td>[0.9866039752960205, -0.4991585314273834, -3.1...</td>\n",
       "    </tr>\n",
       "    <tr>\n",
       "      <th>93336</th>\n",
       "      <td>Man City Newcastle 2023-08-19 Etihad Stadium, ...</td>\n",
       "      <td>[0.013961506, -0.010563543, 0.015210669, 0.013...</td>\n",
       "      <td>[0.1500709056854248, 0.009443949908018112, -2....</td>\n",
       "    </tr>\n",
       "    <tr>\n",
       "      <th>93343</th>\n",
       "      <td>Brentford Crystal Palace 2023-08-26 Gtech Comm...</td>\n",
       "      <td>[-0.008094572, 0.024903629, 0.013604184, -0.00...</td>\n",
       "      <td>[0.5953104496002197, 0.40444305539131165, -3.0...</td>\n",
       "    </tr>\n",
       "    <tr>\n",
       "      <th>93344</th>\n",
       "      <td>Brighton West Ham 2023-08-26 American Express ...</td>\n",
       "      <td>[0.021451954, -0.012039059, 0.014355913, 0.019...</td>\n",
       "      <td>[0.36835864186286926, -0.3567712604999542, -3....</td>\n",
       "    </tr>\n",
       "    <tr>\n",
       "      <th>93347</th>\n",
       "      <td>Everton Wolves 2023-08-26 Goodison Park, Liver...</td>\n",
       "      <td>[-0.010019751, 0.02847876, 0.012722477, -0.007...</td>\n",
       "      <td>[-0.15921032428741455, 0.7213845252990723, -3....</td>\n",
       "    </tr>\n",
       "  </tbody>\n",
       "</table>\n",
       "</div>"
      ],
      "text/plain": [
       "                                                    text  \\\n",
       "id                                                         \n",
       "93323  Bournemouth West Ham 2023-08-12 Vitality Stadi...   \n",
       "93336  Man City Newcastle 2023-08-19 Etihad Stadium, ...   \n",
       "93343  Brentford Crystal Palace 2023-08-26 Gtech Comm...   \n",
       "93344  Brighton West Ham 2023-08-26 American Express ...   \n",
       "93347  Everton Wolves 2023-08-26 Goodison Park, Liver...   \n",
       "\n",
       "                                              embeddings  \\\n",
       "id                                                         \n",
       "93323  [0.00982937, -0.015813109, 0.013958775, 0.0210...   \n",
       "93336  [0.013961506, -0.010563543, 0.015210669, 0.013...   \n",
       "93343  [-0.008094572, 0.024903629, 0.013604184, -0.00...   \n",
       "93344  [0.021451954, -0.012039059, 0.014355913, 0.019...   \n",
       "93347  [-0.010019751, 0.02847876, 0.012722477, -0.007...   \n",
       "\n",
       "                                              nomic_embd  \n",
       "id                                                        \n",
       "93323  [0.9866039752960205, -0.4991585314273834, -3.1...  \n",
       "93336  [0.1500709056854248, 0.009443949908018112, -2....  \n",
       "93343  [0.5953104496002197, 0.40444305539131165, -3.0...  \n",
       "93344  [0.36835864186286926, -0.3567712604999542, -3....  \n",
       "93347  [-0.15921032428741455, 0.7213845252990723, -3....  "
      ]
     },
     "execution_count": 69,
     "metadata": {},
     "output_type": "execute_result"
    }
   ],
   "source": [
    "match_df = pd.read_csv('match_with_nomic_emb.csv', converters={'nomic_embd': pd.eval, 'embeddings': pd.eval}, index_col='id')\n",
    "match_df.head()"
   ]
  },
  {
   "cell_type": "code",
   "execution_count": 70,
   "metadata": {},
   "outputs": [
    {
     "data": {
      "text/plain": [
       "(303, 768)"
      ]
     },
     "execution_count": 70,
     "metadata": {},
     "output_type": "execute_result"
    }
   ],
   "source": [
    "emb_vectors = np.array(match_df['nomic_embd'].tolist())\n",
    "emb_vectors.shape"
   ]
  },
  {
   "cell_type": "code",
   "execution_count": 71,
   "metadata": {},
   "outputs": [],
   "source": [
    "faiss_idx = faiss.IndexFlatL2(emb_vectors.shape[1])"
   ]
  },
  {
   "cell_type": "code",
   "execution_count": 72,
   "metadata": {},
   "outputs": [],
   "source": [
    "faiss_idx.add(emb_vectors)"
   ]
  },
  {
   "cell_type": "markdown",
   "metadata": {},
   "source": [
    "### Let's again try to find 10 \"closest\" match commentaries (now using `nomic` embeddings)."
   ]
  },
  {
   "cell_type": "code",
   "execution_count": 75,
   "metadata": {},
   "outputs": [
    {
     "name": "stdout",
     "output_type": "stream",
     "text": [
      "768\n",
      "[0.786298394203186, -0.3261018395423889, -4.200957775115967, -0.2517128586769104, 1.574384093284607]\n"
     ]
    }
   ],
   "source": [
    "query_emb = apply_faiss_embeddings(question)\n",
    "print(len(query_emb))\n",
    "print(query_emb[:5])"
   ]
  },
  {
   "cell_type": "code",
   "execution_count": 76,
   "metadata": {},
   "outputs": [
    {
     "data": {
      "text/plain": [
       "(1, 768)"
      ]
     },
     "execution_count": 76,
     "metadata": {},
     "output_type": "execute_result"
    }
   ],
   "source": [
    "query_emb_array = np.array(query_emb).reshape(1, -1)\n",
    "query_emb_array.shape"
   ]
  },
  {
   "cell_type": "code",
   "execution_count": 77,
   "metadata": {},
   "outputs": [
    {
     "name": "stdout",
     "output_type": "stream",
     "text": [
      "[[267.42175 270.1125  270.14392 270.6881  272.0106  272.3169  272.9947\n",
      "  275.40152 275.45593 276.5636 ]]\n",
      "[[281  97 124 103 157 218 121 229 148 176]]\n"
     ]
    }
   ],
   "source": [
    "distances, indices = faiss_idx.search(query_emb_array, k=10)\n",
    "print(distances)\n",
    "print(indices)"
   ]
  },
  {
   "cell_type": "markdown",
   "metadata": {},
   "source": [
    "### Hmmm... the \"closest\" should be index 0, because the question refers to the first match in the dataset. Something is wrong here. Let's try to check how big part of the original text we should embed to get the first match as \"closest\"."
   ]
  },
  {
   "cell_type": "markdown",
   "metadata": {},
   "source": [
    "#### Trying with the most important phrase only ... no luck"
   ]
  },
  {
   "cell_type": "code",
   "execution_count": 78,
   "metadata": {},
   "outputs": [
    {
     "name": "stdout",
     "output_type": "stream",
     "text": [
      "Aston Villa Sheffield Utd 2023-12-22 Villa Park, Birmingham 41651.0 Anthony Taylor Hello and welcome\n"
     ]
    }
   ],
   "source": [
    "q = \"\"\"ZAROURY IS SENT OFF\"\"\"\n",
    "d, i = faiss_idx.search(np.array(apply_faiss_embeddings(q)).reshape(1, -1), k=10)\n",
    "print(match_df.iloc[i[0][0]]['text'][:100])"
   ]
  },
  {
   "cell_type": "markdown",
   "metadata": {},
   "source": [
    "#### Trying with the first 100 characters of original text ... no luck"
   ]
  },
  {
   "cell_type": "code",
   "execution_count": 79,
   "metadata": {},
   "outputs": [
    {
     "name": "stdout",
     "output_type": "stream",
     "text": [
      "Brighton Bournemouth 2023-09-24 American Express Stadium, Falmer 31617.0 John Brooks nan Referee: Jo\n"
     ]
    }
   ],
   "source": [
    "q = match_df.iloc[0]['text'][:100]\n",
    "d, i = faiss_idx.search(np.array(apply_faiss_embeddings(q)).reshape(1, -1), k=10)\n",
    "print(match_df.iloc[i[0][0]]['text'][:100])"
   ]
  },
  {
   "cell_type": "markdown",
   "metadata": {},
   "source": [
    "#### Trying with the first 150 characters of original text ... no luck"
   ]
  },
  {
   "cell_type": "code",
   "execution_count": 80,
   "metadata": {},
   "outputs": [
    {
     "name": "stdout",
     "output_type": "stream",
     "text": [
      "Brentford Crystal Palace 2023-08-26 Gtech Community Stadium, Brentford 16997.0 Peter Bankes Hello an\n"
     ]
    }
   ],
   "source": [
    "q = match_df.iloc[0]['text'][:150]\n",
    "d, i = faiss_idx.search(np.array(apply_faiss_embeddings(q)).reshape(1, -1), k=10)\n",
    "print(match_df.iloc[i[0][0]]['text'][:100])"
   ]
  },
  {
   "cell_type": "markdown",
   "metadata": {},
   "source": [
    "#### Trying with the first 200 characters of original text ... success!"
   ]
  },
  {
   "cell_type": "code",
   "execution_count": 81,
   "metadata": {},
   "outputs": [
    {
     "name": "stdout",
     "output_type": "stream",
     "text": [
      "Bournemouth West Ham 2023-08-12 Vitality Stadium, Bournemouth nan Robert Jones Hello and welcome to \n"
     ]
    }
   ],
   "source": [
    "q = match_df.iloc[0]['text'][:200]\n",
    "d, i = faiss_idx.search(np.array(apply_faiss_embeddings(q)).reshape(1, -1), k=10)\n",
    "print(match_df.iloc[i[0][0]]['text'][:100])"
   ]
  },
  {
   "cell_type": "markdown",
   "metadata": {},
   "source": [
    "### Something is definitelly wrong in our process. I think size of the embedded text in compare to embedding size is too small to properly store information. Let's try chunking the text by splitting after every new line and repeat the whole experiment."
   ]
  },
  {
   "cell_type": "code",
   "execution_count": 82,
   "metadata": {},
   "outputs": [
    {
     "data": {
      "text/plain": [
       "73"
      ]
     },
     "execution_count": 82,
     "metadata": {},
     "output_type": "execute_result"
    }
   ],
   "source": [
    "match_df['text_splitted'] = match_df['text'].str.split('\\n')\n",
    "len(match_df.iloc[0]['text_splitted'])"
   ]
  },
  {
   "cell_type": "code",
   "execution_count": 83,
   "metadata": {},
   "outputs": [],
   "source": [
    "match_df = match_df.explode(['text_splitted'])"
   ]
  },
  {
   "cell_type": "code",
   "execution_count": 84,
   "metadata": {},
   "outputs": [
    {
     "data": {
      "text/plain": [
       "28553"
      ]
     },
     "execution_count": 84,
     "metadata": {},
     "output_type": "execute_result"
    }
   ],
   "source": [
    "len(match_df)"
   ]
  },
  {
   "cell_type": "code",
   "execution_count": 85,
   "metadata": {},
   "outputs": [],
   "source": [
    "def apply_nomic_embeddings(text):\n",
    "    # text = text.replace('\\n', ' ')\n",
    "    embedding = embeddings(\n",
    "        model='nomic-embed-text:v1.5',\n",
    "        prompt=text,\n",
    "        options={\"num_ctx\": 8096}\n",
    "    )\n",
    "    return embedding.embedding"
   ]
  },
  {
   "cell_type": "code",
   "execution_count": 86,
   "metadata": {},
   "outputs": [],
   "source": [
    "match_df = match_df.drop(['text'], axis=1)"
   ]
  },
  {
   "cell_type": "code",
   "execution_count": 87,
   "metadata": {},
   "outputs": [
    {
     "data": {
      "text/html": [
       "<div>\n",
       "<style scoped>\n",
       "    .dataframe tbody tr th:only-of-type {\n",
       "        vertical-align: middle;\n",
       "    }\n",
       "\n",
       "    .dataframe tbody tr th {\n",
       "        vertical-align: top;\n",
       "    }\n",
       "\n",
       "    .dataframe thead th {\n",
       "        text-align: right;\n",
       "    }\n",
       "</style>\n",
       "<table border=\"1\" class=\"dataframe\">\n",
       "  <thead>\n",
       "    <tr style=\"text-align: right;\">\n",
       "      <th></th>\n",
       "      <th>embeddings</th>\n",
       "      <th>nomic_embd</th>\n",
       "      <th>text_splitted</th>\n",
       "    </tr>\n",
       "    <tr>\n",
       "      <th>id</th>\n",
       "      <th></th>\n",
       "      <th></th>\n",
       "      <th></th>\n",
       "    </tr>\n",
       "  </thead>\n",
       "  <tbody>\n",
       "    <tr>\n",
       "      <th>93323</th>\n",
       "      <td>[0.00982937, -0.015813109, 0.013958775, 0.0210...</td>\n",
       "      <td>[0.9866039752960205, -0.4991585314273834, -3.1...</td>\n",
       "      <td>Bournemouth West Ham 2023-08-12 Vitality Stadi...</td>\n",
       "    </tr>\n",
       "    <tr>\n",
       "      <th>93323</th>\n",
       "      <td>[0.00982937, -0.015813109, 0.013958775, 0.0210...</td>\n",
       "      <td>[0.9866039752960205, -0.4991585314273834, -3.1...</td>\n",
       "      <td>The Premier League is back for a new season, a...</td>\n",
       "    </tr>\n",
       "    <tr>\n",
       "      <th>93323</th>\n",
       "      <td>[0.00982937, -0.015813109, 0.013958775, 0.0210...</td>\n",
       "      <td>[0.9866039752960205, -0.4991585314273834, -3.1...</td>\n",
       "      <td>City, meanwhile, claimed a historic treble las...</td>\n",
       "    </tr>\n",
       "    <tr>\n",
       "      <th>93323</th>\n",
       "      <td>[0.00982937, -0.015813109, 0.013958775, 0.0210...</td>\n",
       "      <td>[0.9866039752960205, -0.4991585314273834, -3.1...</td>\n",
       "      <td>BURNLEY (4-4-2): James Trafford; Connor Robert...</td>\n",
       "    </tr>\n",
       "    <tr>\n",
       "      <th>93323</th>\n",
       "      <td>[0.00982937, -0.015813109, 0.013958775, 0.0210...</td>\n",
       "      <td>[0.9866039752960205, -0.4991585314273834, -3.1...</td>\n",
       "      <td>SUBS: Josh Brownhill, Jacob Bruun Larsen, Arij...</td>\n",
       "    </tr>\n",
       "  </tbody>\n",
       "</table>\n",
       "</div>"
      ],
      "text/plain": [
       "                                              embeddings  \\\n",
       "id                                                         \n",
       "93323  [0.00982937, -0.015813109, 0.013958775, 0.0210...   \n",
       "93323  [0.00982937, -0.015813109, 0.013958775, 0.0210...   \n",
       "93323  [0.00982937, -0.015813109, 0.013958775, 0.0210...   \n",
       "93323  [0.00982937, -0.015813109, 0.013958775, 0.0210...   \n",
       "93323  [0.00982937, -0.015813109, 0.013958775, 0.0210...   \n",
       "\n",
       "                                              nomic_embd  \\\n",
       "id                                                         \n",
       "93323  [0.9866039752960205, -0.4991585314273834, -3.1...   \n",
       "93323  [0.9866039752960205, -0.4991585314273834, -3.1...   \n",
       "93323  [0.9866039752960205, -0.4991585314273834, -3.1...   \n",
       "93323  [0.9866039752960205, -0.4991585314273834, -3.1...   \n",
       "93323  [0.9866039752960205, -0.4991585314273834, -3.1...   \n",
       "\n",
       "                                           text_splitted  \n",
       "id                                                        \n",
       "93323  Bournemouth West Ham 2023-08-12 Vitality Stadi...  \n",
       "93323  The Premier League is back for a new season, a...  \n",
       "93323  City, meanwhile, claimed a historic treble las...  \n",
       "93323  BURNLEY (4-4-2): James Trafford; Connor Robert...  \n",
       "93323  SUBS: Josh Brownhill, Jacob Bruun Larsen, Arij...  "
      ]
     },
     "execution_count": 87,
     "metadata": {},
     "output_type": "execute_result"
    }
   ],
   "source": [
    "match_df.head()"
   ]
  },
  {
   "cell_type": "markdown",
   "metadata": {},
   "source": [
    "### Embedding took 267 minutes."
   ]
  },
  {
   "cell_type": "code",
   "execution_count": 181,
   "metadata": {},
   "outputs": [],
   "source": [
    "match_df['nomic_embd_splt'] = match_df['text_splitted'].apply(apply_nomic_embeddings)"
   ]
  },
  {
   "cell_type": "code",
   "execution_count": 182,
   "metadata": {},
   "outputs": [],
   "source": [
    "match_df.to_csv('match_embeddings_splt.csv')"
   ]
  },
  {
   "cell_type": "code",
   "execution_count": 88,
   "metadata": {},
   "outputs": [
    {
     "data": {
      "text/html": [
       "<div>\n",
       "<style scoped>\n",
       "    .dataframe tbody tr th:only-of-type {\n",
       "        vertical-align: middle;\n",
       "    }\n",
       "\n",
       "    .dataframe tbody tr th {\n",
       "        vertical-align: top;\n",
       "    }\n",
       "\n",
       "    .dataframe thead th {\n",
       "        text-align: right;\n",
       "    }\n",
       "</style>\n",
       "<table border=\"1\" class=\"dataframe\">\n",
       "  <thead>\n",
       "    <tr style=\"text-align: right;\">\n",
       "      <th></th>\n",
       "      <th>embeddings</th>\n",
       "      <th>nomic_embd</th>\n",
       "      <th>text_splitted</th>\n",
       "      <th>nomic_embd_splt</th>\n",
       "    </tr>\n",
       "    <tr>\n",
       "      <th>id</th>\n",
       "      <th></th>\n",
       "      <th></th>\n",
       "      <th></th>\n",
       "      <th></th>\n",
       "    </tr>\n",
       "  </thead>\n",
       "  <tbody>\n",
       "    <tr>\n",
       "      <th>93323</th>\n",
       "      <td>[0.00982937, -0.015813109, 0.013958775, 0.0210...</td>\n",
       "      <td>[0.9866039752960205, -0.4991585314273834, -3.1...</td>\n",
       "      <td>Bournemouth West Ham 2023-08-12 Vitality Stadi...</td>\n",
       "      <td>[0.5638356804847717, -0.14036604762077332, -3....</td>\n",
       "    </tr>\n",
       "    <tr>\n",
       "      <th>93323</th>\n",
       "      <td>[0.00982937, -0.015813109, 0.013958775, 0.0210...</td>\n",
       "      <td>[0.9866039752960205, -0.4991585314273834, -3.1...</td>\n",
       "      <td>The Premier League is back for a new season, a...</td>\n",
       "      <td>[-0.10109501332044601, -0.08101896196603775, -...</td>\n",
       "    </tr>\n",
       "    <tr>\n",
       "      <th>93323</th>\n",
       "      <td>[0.00982937, -0.015813109, 0.013958775, 0.0210...</td>\n",
       "      <td>[0.9866039752960205, -0.4991585314273834, -3.1...</td>\n",
       "      <td>City, meanwhile, claimed a historic treble las...</td>\n",
       "      <td>[-0.2390199452638626, 0.10547727346420288, -3....</td>\n",
       "    </tr>\n",
       "    <tr>\n",
       "      <th>93323</th>\n",
       "      <td>[0.00982937, -0.015813109, 0.013958775, 0.0210...</td>\n",
       "      <td>[0.9866039752960205, -0.4991585314273834, -3.1...</td>\n",
       "      <td>BURNLEY (4-4-2): James Trafford; Connor Robert...</td>\n",
       "      <td>[0.172206848859787, -0.6128902435302734, -3.61...</td>\n",
       "    </tr>\n",
       "    <tr>\n",
       "      <th>93323</th>\n",
       "      <td>[0.00982937, -0.015813109, 0.013958775, 0.0210...</td>\n",
       "      <td>[0.9866039752960205, -0.4991585314273834, -3.1...</td>\n",
       "      <td>SUBS: Josh Brownhill, Jacob Bruun Larsen, Arij...</td>\n",
       "      <td>[-1.0973767042160034, 0.5310721397399902, -3.7...</td>\n",
       "    </tr>\n",
       "  </tbody>\n",
       "</table>\n",
       "</div>"
      ],
      "text/plain": [
       "                                              embeddings  \\\n",
       "id                                                         \n",
       "93323  [0.00982937, -0.015813109, 0.013958775, 0.0210...   \n",
       "93323  [0.00982937, -0.015813109, 0.013958775, 0.0210...   \n",
       "93323  [0.00982937, -0.015813109, 0.013958775, 0.0210...   \n",
       "93323  [0.00982937, -0.015813109, 0.013958775, 0.0210...   \n",
       "93323  [0.00982937, -0.015813109, 0.013958775, 0.0210...   \n",
       "\n",
       "                                              nomic_embd  \\\n",
       "id                                                         \n",
       "93323  [0.9866039752960205, -0.4991585314273834, -3.1...   \n",
       "93323  [0.9866039752960205, -0.4991585314273834, -3.1...   \n",
       "93323  [0.9866039752960205, -0.4991585314273834, -3.1...   \n",
       "93323  [0.9866039752960205, -0.4991585314273834, -3.1...   \n",
       "93323  [0.9866039752960205, -0.4991585314273834, -3.1...   \n",
       "\n",
       "                                           text_splitted  \\\n",
       "id                                                         \n",
       "93323  Bournemouth West Ham 2023-08-12 Vitality Stadi...   \n",
       "93323  The Premier League is back for a new season, a...   \n",
       "93323  City, meanwhile, claimed a historic treble las...   \n",
       "93323  BURNLEY (4-4-2): James Trafford; Connor Robert...   \n",
       "93323  SUBS: Josh Brownhill, Jacob Bruun Larsen, Arij...   \n",
       "\n",
       "                                         nomic_embd_splt  \n",
       "id                                                        \n",
       "93323  [0.5638356804847717, -0.14036604762077332, -3....  \n",
       "93323  [-0.10109501332044601, -0.08101896196603775, -...  \n",
       "93323  [-0.2390199452638626, 0.10547727346420288, -3....  \n",
       "93323  [0.172206848859787, -0.6128902435302734, -3.61...  \n",
       "93323  [-1.0973767042160034, 0.5310721397399902, -3.7...  "
      ]
     },
     "execution_count": 88,
     "metadata": {},
     "output_type": "execute_result"
    }
   ],
   "source": [
    "match_df = pd.read_csv('match_embeddings_splt.csv', converters={'nomic_embd': pd.eval, 'embeddings': pd.eval, 'nomic_embd_splt': pd.eval}, index_col='id')\n",
    "match_df.head()"
   ]
  },
  {
   "cell_type": "code",
   "execution_count": 89,
   "metadata": {},
   "outputs": [],
   "source": [
    "faiss_nomic_splt_idx = faiss.IndexFlatL2(len(match_df.nomic_embd_splt.iloc[0]))"
   ]
  },
  {
   "cell_type": "code",
   "execution_count": 90,
   "metadata": {},
   "outputs": [
    {
     "ename": "ValueError",
     "evalue": "setting an array element with a sequence. The requested array has an inhomogeneous shape after 1 dimensions. The detected shape was (28553,) + inhomogeneous part.",
     "output_type": "error",
     "traceback": [
      "\u001b[0;31m---------------------------------------------------------------------------\u001b[0m",
      "\u001b[0;31mValueError\u001b[0m                                Traceback (most recent call last)",
      "Cell \u001b[0;32mIn[90], line 1\u001b[0m\n\u001b[0;32m----> 1\u001b[0m emb_vectors \u001b[38;5;241m=\u001b[39m \u001b[43mnp\u001b[49m\u001b[38;5;241;43m.\u001b[39;49m\u001b[43marray\u001b[49m\u001b[43m(\u001b[49m\u001b[43mmatch_df\u001b[49m\u001b[43m[\u001b[49m\u001b[38;5;124;43m'\u001b[39;49m\u001b[38;5;124;43mnomic_embd_splt\u001b[39;49m\u001b[38;5;124;43m'\u001b[39;49m\u001b[43m]\u001b[49m\u001b[38;5;241;43m.\u001b[39;49m\u001b[43mtolist\u001b[49m\u001b[43m(\u001b[49m\u001b[43m)\u001b[49m\u001b[43m)\u001b[49m\n\u001b[1;32m      2\u001b[0m emb_vectors\u001b[38;5;241m.\u001b[39mshape\n",
      "\u001b[0;31mValueError\u001b[0m: setting an array element with a sequence. The requested array has an inhomogeneous shape after 1 dimensions. The detected shape was (28553,) + inhomogeneous part."
     ]
    }
   ],
   "source": [
    "emb_vectors = np.array(match_df['nomic_embd_splt'].tolist())\n",
    "emb_vectors.shape"
   ]
  },
  {
   "cell_type": "markdown",
   "metadata": {},
   "source": [
    "### Hmmm... we faced an issue when trying to covert to matrix. Error suggests that entries may not have equal length. Let's check it."
   ]
  },
  {
   "cell_type": "code",
   "execution_count": 91,
   "metadata": {},
   "outputs": [
    {
     "data": {
      "text/html": [
       "<div>\n",
       "<style scoped>\n",
       "    .dataframe tbody tr th:only-of-type {\n",
       "        vertical-align: middle;\n",
       "    }\n",
       "\n",
       "    .dataframe tbody tr th {\n",
       "        vertical-align: top;\n",
       "    }\n",
       "\n",
       "    .dataframe thead th {\n",
       "        text-align: right;\n",
       "    }\n",
       "</style>\n",
       "<table border=\"1\" class=\"dataframe\">\n",
       "  <thead>\n",
       "    <tr style=\"text-align: right;\">\n",
       "      <th></th>\n",
       "      <th>embeddings</th>\n",
       "      <th>nomic_embd</th>\n",
       "      <th>text_splitted</th>\n",
       "      <th>nomic_embd_splt</th>\n",
       "    </tr>\n",
       "    <tr>\n",
       "      <th>id</th>\n",
       "      <th></th>\n",
       "      <th></th>\n",
       "      <th></th>\n",
       "      <th></th>\n",
       "    </tr>\n",
       "  </thead>\n",
       "  <tbody>\n",
       "    <tr>\n",
       "      <th>93427</th>\n",
       "      <td>[0.017350046, -0.014460054, 0.007997568, 0.016...</td>\n",
       "      <td>[0.7821648716926575, -0.6712018847465515, -3.5...</td>\n",
       "      <td>NaN</td>\n",
       "      <td>[]</td>\n",
       "    </tr>\n",
       "    <tr>\n",
       "      <th>93526</th>\n",
       "      <td>[0.004836533, -0.004325786, 0.014474527, 0.020...</td>\n",
       "      <td>[0.1423361450433731, -0.07177310436964035, -3....</td>\n",
       "      <td>NaN</td>\n",
       "      <td>[]</td>\n",
       "    </tr>\n",
       "    <tr>\n",
       "      <th>93574</th>\n",
       "      <td>[0.017602252, -0.006939734, 0.007896192, 0.018...</td>\n",
       "      <td>[-0.27723392844200134, 0.11305049806833267, -2...</td>\n",
       "      <td>NaN</td>\n",
       "      <td>[]</td>\n",
       "    </tr>\n",
       "    <tr>\n",
       "      <th>93623</th>\n",
       "      <td>[0.0011206537, -0.024544625, 0.009935, 0.01932...</td>\n",
       "      <td>[0.19563862681388855, -0.13900986313819885, -3...</td>\n",
       "      <td>NaN</td>\n",
       "      <td>[]</td>\n",
       "    </tr>\n",
       "    <tr>\n",
       "      <th>93628</th>\n",
       "      <td>[-0.0012025437, 0.03419225, 0.0018559819, -0.0...</td>\n",
       "      <td>[0.8460286855697632, 0.7662405967712402, -3.27...</td>\n",
       "      <td>NaN</td>\n",
       "      <td>[]</td>\n",
       "    </tr>\n",
       "    <tr>\n",
       "      <th>93628</th>\n",
       "      <td>[-0.0012025437, 0.03419225, 0.0018559819, -0.0...</td>\n",
       "      <td>[0.8460286855697632, 0.7662405967712402, -3.27...</td>\n",
       "      <td>NaN</td>\n",
       "      <td>[]</td>\n",
       "    </tr>\n",
       "    <tr>\n",
       "      <th>93628</th>\n",
       "      <td>[-0.0012025437, 0.03419225, 0.0018559819, -0.0...</td>\n",
       "      <td>[0.8460286855697632, 0.7662405967712402, -3.27...</td>\n",
       "      <td>NaN</td>\n",
       "      <td>[]</td>\n",
       "    </tr>\n",
       "    <tr>\n",
       "      <th>93628</th>\n",
       "      <td>[-0.0012025437, 0.03419225, 0.0018559819, -0.0...</td>\n",
       "      <td>[0.8460286855697632, 0.7662405967712402, -3.27...</td>\n",
       "      <td>NaN</td>\n",
       "      <td>[]</td>\n",
       "    </tr>\n",
       "  </tbody>\n",
       "</table>\n",
       "</div>"
      ],
      "text/plain": [
       "                                              embeddings  \\\n",
       "id                                                         \n",
       "93427  [0.017350046, -0.014460054, 0.007997568, 0.016...   \n",
       "93526  [0.004836533, -0.004325786, 0.014474527, 0.020...   \n",
       "93574  [0.017602252, -0.006939734, 0.007896192, 0.018...   \n",
       "93623  [0.0011206537, -0.024544625, 0.009935, 0.01932...   \n",
       "93628  [-0.0012025437, 0.03419225, 0.0018559819, -0.0...   \n",
       "93628  [-0.0012025437, 0.03419225, 0.0018559819, -0.0...   \n",
       "93628  [-0.0012025437, 0.03419225, 0.0018559819, -0.0...   \n",
       "93628  [-0.0012025437, 0.03419225, 0.0018559819, -0.0...   \n",
       "\n",
       "                                              nomic_embd text_splitted  \\\n",
       "id                                                                       \n",
       "93427  [0.7821648716926575, -0.6712018847465515, -3.5...           NaN   \n",
       "93526  [0.1423361450433731, -0.07177310436964035, -3....           NaN   \n",
       "93574  [-0.27723392844200134, 0.11305049806833267, -2...           NaN   \n",
       "93623  [0.19563862681388855, -0.13900986313819885, -3...           NaN   \n",
       "93628  [0.8460286855697632, 0.7662405967712402, -3.27...           NaN   \n",
       "93628  [0.8460286855697632, 0.7662405967712402, -3.27...           NaN   \n",
       "93628  [0.8460286855697632, 0.7662405967712402, -3.27...           NaN   \n",
       "93628  [0.8460286855697632, 0.7662405967712402, -3.27...           NaN   \n",
       "\n",
       "      nomic_embd_splt  \n",
       "id                     \n",
       "93427              []  \n",
       "93526              []  \n",
       "93574              []  \n",
       "93623              []  \n",
       "93628              []  \n",
       "93628              []  \n",
       "93628              []  \n",
       "93628              []  "
      ]
     },
     "execution_count": 91,
     "metadata": {},
     "output_type": "execute_result"
    }
   ],
   "source": [
    "match_df[match_df.nomic_embd_splt.apply(lambda x: len(x) != 768)]"
   ]
  },
  {
   "cell_type": "code",
   "execution_count": 99,
   "metadata": {},
   "outputs": [
    {
     "data": {
      "text/plain": [
       "id\n",
       "93427    True\n",
       "93526    True\n",
       "93574    True\n",
       "93623    True\n",
       "93628    True\n",
       "93628    True\n",
       "93628    True\n",
       "93628    True\n",
       "Name: text_splitted, dtype: bool"
      ]
     },
     "execution_count": 99,
     "metadata": {},
     "output_type": "execute_result"
    }
   ],
   "source": [
    "match_df[match_df.nomic_embd_splt.apply(lambda x: len(x) != 768)].text_splitted.isna()"
   ]
  },
  {
   "cell_type": "markdown",
   "metadata": {},
   "source": [
    "### OK, so some of the splits are empty string and they resulted in empty embedding. Let's discard them while creating matrix for FAISS index."
   ]
  },
  {
   "cell_type": "code",
   "execution_count": 100,
   "metadata": {},
   "outputs": [
    {
     "data": {
      "text/plain": [
       "(28545, 768)"
      ]
     },
     "execution_count": 100,
     "metadata": {},
     "output_type": "execute_result"
    }
   ],
   "source": [
    "emb_vectors = np.array(match_df[match_df.text_splitted.notna()].nomic_embd_splt.tolist())\n",
    "emb_vectors.shape"
   ]
  },
  {
   "cell_type": "code",
   "execution_count": 101,
   "metadata": {},
   "outputs": [],
   "source": [
    "faiss_nomic_splt_idx.add(emb_vectors)"
   ]
  },
  {
   "cell_type": "code",
   "execution_count": 102,
   "metadata": {},
   "outputs": [],
   "source": [
    "question = 'In which premier league match Zaroury was sent off after a foul on Walker?'"
   ]
  },
  {
   "cell_type": "code",
   "execution_count": 103,
   "metadata": {},
   "outputs": [
    {
     "name": "stdout",
     "output_type": "stream",
     "text": [
      "768\n",
      "[0.786298394203186, -0.3261018395423889, -4.200957775115967, -0.2517128586769104, 1.574384093284607]\n"
     ]
    }
   ],
   "source": [
    "query_emb = apply_nomic_embeddings(question)\n",
    "print(len(query_emb))\n",
    "print(query_emb[:5])"
   ]
  },
  {
   "cell_type": "code",
   "execution_count": 104,
   "metadata": {},
   "outputs": [
    {
     "data": {
      "text/plain": [
       "(1, 768)"
      ]
     },
     "execution_count": 104,
     "metadata": {},
     "output_type": "execute_result"
    }
   ],
   "source": [
    "query_emb_array = np.array(query_emb).reshape(1, -1)\n",
    "query_emb_array.shape"
   ]
  },
  {
   "cell_type": "code",
   "execution_count": 105,
   "metadata": {},
   "outputs": [
    {
     "name": "stdout",
     "output_type": "stream",
     "text": [
      "[[164.65869 216.30637 219.08981 220.096   220.09999 222.4321  227.52008\n",
      "  227.96379 228.98056 230.73674]]\n",
      "[[   67 22043  7373  8708  6053 24800  3965 24607    66 13706]]\n"
     ]
    }
   ],
   "source": [
    "distances, indices = faiss_nomic_splt_idx.search(query_emb_array, k=10)\n",
    "print(distances)\n",
    "print(indices)"
   ]
  },
  {
   "cell_type": "markdown",
   "metadata": {},
   "source": [
    "## SUCCESS! Now similarity search returned exact chunk of the text in which eveng of our question occurs."
   ]
  },
  {
   "cell_type": "code",
   "execution_count": 106,
   "metadata": {},
   "outputs": [
    {
     "data": {
      "text/plain": [
       "\"ZAROURY IS SENT OFF!!! The replays show the substitute's right foot catches Walker high on his left leg, and a VAR review rules the tackle is worthy of a red card. Burnley are down to 10 men!\""
      ]
     },
     "execution_count": 106,
     "metadata": {},
     "output_type": "execute_result"
    }
   ],
   "source": [
    "match_df.iloc[indices[0][0]].text_splitted"
   ]
  },
  {
   "cell_type": "code",
   "execution_count": 107,
   "metadata": {},
   "outputs": [
    {
     "data": {
      "text/plain": [
       "Home                                                Bournemouth\n",
       "Away                                                   West Ham\n",
       "Date                                                 2023-08-12\n",
       "Stadium                           Vitality Stadium, Bournemouth\n",
       "Attendance                                                  NaN\n",
       "Referee                                            Robert Jones\n",
       "events        Hello and welcome to live coverage of the Prem...\n",
       "summary       Referee: Peter Bankes. Assistants: Dan Robatha...\n",
       "text          Bournemouth West Ham 2023-08-12 Vitality Stadi...\n",
       "Name: 93323, dtype: object"
      ]
     },
     "execution_count": 107,
     "metadata": {},
     "output_type": "execute_result"
    }
   ],
   "source": [
    "match_csv_df.loc[int(match_df.iloc[indices[0][0]].name)]"
   ]
  }
 ],
 "metadata": {
  "kernelspec": {
   "display_name": "my-rag",
   "language": "python",
   "name": "python3"
  },
  "language_info": {
   "codemirror_mode": {
    "name": "ipython",
    "version": 3
   },
   "file_extension": ".py",
   "mimetype": "text/x-python",
   "name": "python",
   "nbconvert_exporter": "python",
   "pygments_lexer": "ipython3",
   "version": "3.12.7"
  }
 },
 "nbformat": 4,
 "nbformat_minor": 2
}
